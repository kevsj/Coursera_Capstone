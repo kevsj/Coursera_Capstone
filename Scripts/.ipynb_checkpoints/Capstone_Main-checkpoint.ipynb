{
 "cells": [
  {
   "cell_type": "markdown",
   "metadata": {},
   "source": [
    "# Capstone Project - Avoiding accidents and Predicting accident severity"
   ]
  },
  {
   "cell_type": "markdown",
   "metadata": {},
   "source": [
    "## IMPORT section"
   ]
  },
  {
   "cell_type": "code",
   "execution_count": 1,
   "metadata": {},
   "outputs": [],
   "source": [
    "import pandas as pd\n",
    "import numpy as np\n",
    "from sklearn import preprocessing"
   ]
  },
  {
   "cell_type": "markdown",
   "metadata": {},
   "source": [
    "## Get Collision data csv file and put it into a dataframe"
   ]
  },
  {
   "cell_type": "code",
   "execution_count": 2,
   "metadata": {},
   "outputs": [
    {
     "name": "stderr",
     "output_type": "stream",
     "text": [
      "C:\\Users\\kpurs\\anaconda3\\lib\\site-packages\\IPython\\core\\interactiveshell.py:3071: DtypeWarning: Columns (33) have mixed types.Specify dtype option on import or set low_memory=False.\n",
      "  has_raised = await self.run_ast_nodes(code_ast.body, cell_name,\n"
     ]
    },
    {
     "data": {
      "text/html": [
       "<div>\n",
       "<style scoped>\n",
       "    .dataframe tbody tr th:only-of-type {\n",
       "        vertical-align: middle;\n",
       "    }\n",
       "\n",
       "    .dataframe tbody tr th {\n",
       "        vertical-align: top;\n",
       "    }\n",
       "\n",
       "    .dataframe thead th {\n",
       "        text-align: right;\n",
       "    }\n",
       "</style>\n",
       "<table border=\"1\" class=\"dataframe\">\n",
       "  <thead>\n",
       "    <tr style=\"text-align: right;\">\n",
       "      <th></th>\n",
       "      <th>SEVERITYCODE</th>\n",
       "      <th>X</th>\n",
       "      <th>Y</th>\n",
       "      <th>OBJECTID</th>\n",
       "      <th>INCKEY</th>\n",
       "      <th>COLDETKEY</th>\n",
       "      <th>REPORTNO</th>\n",
       "      <th>STATUS</th>\n",
       "      <th>ADDRTYPE</th>\n",
       "      <th>INTKEY</th>\n",
       "      <th>...</th>\n",
       "      <th>ROADCOND</th>\n",
       "      <th>LIGHTCOND</th>\n",
       "      <th>PEDROWNOTGRNT</th>\n",
       "      <th>SDOTCOLNUM</th>\n",
       "      <th>SPEEDING</th>\n",
       "      <th>ST_COLCODE</th>\n",
       "      <th>ST_COLDESC</th>\n",
       "      <th>SEGLANEKEY</th>\n",
       "      <th>CROSSWALKKEY</th>\n",
       "      <th>HITPARKEDCAR</th>\n",
       "    </tr>\n",
       "  </thead>\n",
       "  <tbody>\n",
       "    <tr>\n",
       "      <th>0</th>\n",
       "      <td>2</td>\n",
       "      <td>-122.323148</td>\n",
       "      <td>47.703140</td>\n",
       "      <td>1</td>\n",
       "      <td>1307</td>\n",
       "      <td>1307</td>\n",
       "      <td>3502005</td>\n",
       "      <td>Matched</td>\n",
       "      <td>Intersection</td>\n",
       "      <td>37475.0</td>\n",
       "      <td>...</td>\n",
       "      <td>Wet</td>\n",
       "      <td>Daylight</td>\n",
       "      <td>NaN</td>\n",
       "      <td>NaN</td>\n",
       "      <td>NaN</td>\n",
       "      <td>10</td>\n",
       "      <td>Entering at angle</td>\n",
       "      <td>0</td>\n",
       "      <td>0</td>\n",
       "      <td>N</td>\n",
       "    </tr>\n",
       "    <tr>\n",
       "      <th>1</th>\n",
       "      <td>1</td>\n",
       "      <td>-122.347294</td>\n",
       "      <td>47.647172</td>\n",
       "      <td>2</td>\n",
       "      <td>52200</td>\n",
       "      <td>52200</td>\n",
       "      <td>2607959</td>\n",
       "      <td>Matched</td>\n",
       "      <td>Block</td>\n",
       "      <td>NaN</td>\n",
       "      <td>...</td>\n",
       "      <td>Wet</td>\n",
       "      <td>Dark - Street Lights On</td>\n",
       "      <td>NaN</td>\n",
       "      <td>6354039.0</td>\n",
       "      <td>NaN</td>\n",
       "      <td>11</td>\n",
       "      <td>From same direction - both going straight - bo...</td>\n",
       "      <td>0</td>\n",
       "      <td>0</td>\n",
       "      <td>N</td>\n",
       "    </tr>\n",
       "    <tr>\n",
       "      <th>2</th>\n",
       "      <td>1</td>\n",
       "      <td>-122.334540</td>\n",
       "      <td>47.607871</td>\n",
       "      <td>3</td>\n",
       "      <td>26700</td>\n",
       "      <td>26700</td>\n",
       "      <td>1482393</td>\n",
       "      <td>Matched</td>\n",
       "      <td>Block</td>\n",
       "      <td>NaN</td>\n",
       "      <td>...</td>\n",
       "      <td>Dry</td>\n",
       "      <td>Daylight</td>\n",
       "      <td>NaN</td>\n",
       "      <td>4323031.0</td>\n",
       "      <td>NaN</td>\n",
       "      <td>32</td>\n",
       "      <td>One parked--one moving</td>\n",
       "      <td>0</td>\n",
       "      <td>0</td>\n",
       "      <td>N</td>\n",
       "    </tr>\n",
       "    <tr>\n",
       "      <th>3</th>\n",
       "      <td>1</td>\n",
       "      <td>-122.334803</td>\n",
       "      <td>47.604803</td>\n",
       "      <td>4</td>\n",
       "      <td>1144</td>\n",
       "      <td>1144</td>\n",
       "      <td>3503937</td>\n",
       "      <td>Matched</td>\n",
       "      <td>Block</td>\n",
       "      <td>NaN</td>\n",
       "      <td>...</td>\n",
       "      <td>Dry</td>\n",
       "      <td>Daylight</td>\n",
       "      <td>NaN</td>\n",
       "      <td>NaN</td>\n",
       "      <td>NaN</td>\n",
       "      <td>23</td>\n",
       "      <td>From same direction - all others</td>\n",
       "      <td>0</td>\n",
       "      <td>0</td>\n",
       "      <td>N</td>\n",
       "    </tr>\n",
       "    <tr>\n",
       "      <th>4</th>\n",
       "      <td>2</td>\n",
       "      <td>-122.306426</td>\n",
       "      <td>47.545739</td>\n",
       "      <td>5</td>\n",
       "      <td>17700</td>\n",
       "      <td>17700</td>\n",
       "      <td>1807429</td>\n",
       "      <td>Matched</td>\n",
       "      <td>Intersection</td>\n",
       "      <td>34387.0</td>\n",
       "      <td>...</td>\n",
       "      <td>Wet</td>\n",
       "      <td>Daylight</td>\n",
       "      <td>NaN</td>\n",
       "      <td>4028032.0</td>\n",
       "      <td>NaN</td>\n",
       "      <td>10</td>\n",
       "      <td>Entering at angle</td>\n",
       "      <td>0</td>\n",
       "      <td>0</td>\n",
       "      <td>N</td>\n",
       "    </tr>\n",
       "  </tbody>\n",
       "</table>\n",
       "<p>5 rows × 38 columns</p>\n",
       "</div>"
      ],
      "text/plain": [
       "   SEVERITYCODE           X          Y  OBJECTID  INCKEY  COLDETKEY REPORTNO  \\\n",
       "0             2 -122.323148  47.703140         1    1307       1307  3502005   \n",
       "1             1 -122.347294  47.647172         2   52200      52200  2607959   \n",
       "2             1 -122.334540  47.607871         3   26700      26700  1482393   \n",
       "3             1 -122.334803  47.604803         4    1144       1144  3503937   \n",
       "4             2 -122.306426  47.545739         5   17700      17700  1807429   \n",
       "\n",
       "    STATUS      ADDRTYPE   INTKEY  ... ROADCOND                LIGHTCOND  \\\n",
       "0  Matched  Intersection  37475.0  ...      Wet                 Daylight   \n",
       "1  Matched         Block      NaN  ...      Wet  Dark - Street Lights On   \n",
       "2  Matched         Block      NaN  ...      Dry                 Daylight   \n",
       "3  Matched         Block      NaN  ...      Dry                 Daylight   \n",
       "4  Matched  Intersection  34387.0  ...      Wet                 Daylight   \n",
       "\n",
       "  PEDROWNOTGRNT  SDOTCOLNUM SPEEDING ST_COLCODE  \\\n",
       "0           NaN         NaN      NaN         10   \n",
       "1           NaN   6354039.0      NaN         11   \n",
       "2           NaN   4323031.0      NaN         32   \n",
       "3           NaN         NaN      NaN         23   \n",
       "4           NaN   4028032.0      NaN         10   \n",
       "\n",
       "                                          ST_COLDESC  SEGLANEKEY  \\\n",
       "0                                  Entering at angle           0   \n",
       "1  From same direction - both going straight - bo...           0   \n",
       "2                             One parked--one moving           0   \n",
       "3                   From same direction - all others           0   \n",
       "4                                  Entering at angle           0   \n",
       "\n",
       "   CROSSWALKKEY  HITPARKEDCAR  \n",
       "0             0             N  \n",
       "1             0             N  \n",
       "2             0             N  \n",
       "3             0             N  \n",
       "4             0             N  \n",
       "\n",
       "[5 rows x 38 columns]"
      ]
     },
     "execution_count": 2,
     "metadata": {},
     "output_type": "execute_result"
    }
   ],
   "source": [
    "raw_df = pd.read_csv(r\"C:\\Temp\\Data-Collisions.csv\")\n",
    "raw_df.head()"
   ]
  },
  {
   "cell_type": "markdown",
   "metadata": {},
   "source": [
    "## ANALYSE the raw collision data"
   ]
  },
  {
   "cell_type": "code",
   "execution_count": 5,
   "metadata": {},
   "outputs": [
    {
     "data": {
      "text/plain": [
       "(194673, 38)"
      ]
     },
     "execution_count": 5,
     "metadata": {},
     "output_type": "execute_result"
    }
   ],
   "source": [
    "#Get the row/column count\n",
    "raw_df.shape"
   ]
  },
  {
   "cell_type": "code",
   "execution_count": 6,
   "metadata": {},
   "outputs": [
    {
     "data": {
      "text/plain": [
       "<bound method NDFrame.describe of         SEVERITYCODE           X          Y  OBJECTID  INCKEY  COLDETKEY  \\\n",
       "0                  2 -122.323148  47.703140         1    1307       1307   \n",
       "1                  1 -122.347294  47.647172         2   52200      52200   \n",
       "2                  1 -122.334540  47.607871         3   26700      26700   \n",
       "3                  1 -122.334803  47.604803         4    1144       1144   \n",
       "4                  2 -122.306426  47.545739         5   17700      17700   \n",
       "...              ...         ...        ...       ...     ...        ...   \n",
       "194668             2 -122.290826  47.565408    219543  309534     310814   \n",
       "194669             1 -122.344526  47.690924    219544  309085     310365   \n",
       "194670             2 -122.306689  47.683047    219545  311280     312640   \n",
       "194671             2 -122.355317  47.678734    219546  309514     310794   \n",
       "194672             1 -122.289360  47.611017    219547  308220     309500   \n",
       "\n",
       "       REPORTNO   STATUS      ADDRTYPE   INTKEY  ... ROADCOND  \\\n",
       "0       3502005  Matched  Intersection  37475.0  ...      Wet   \n",
       "1       2607959  Matched         Block      NaN  ...      Wet   \n",
       "2       1482393  Matched         Block      NaN  ...      Dry   \n",
       "3       3503937  Matched         Block      NaN  ...      Dry   \n",
       "4       1807429  Matched  Intersection  34387.0  ...      Wet   \n",
       "...         ...      ...           ...      ...  ...      ...   \n",
       "194668  E871089  Matched         Block      NaN  ...      Dry   \n",
       "194669  E876731  Matched         Block      NaN  ...      Wet   \n",
       "194670  3809984  Matched  Intersection  24760.0  ...      Dry   \n",
       "194671  3810083  Matched  Intersection  24349.0  ...      Dry   \n",
       "194672  E868008  Matched         Block      NaN  ...      Wet   \n",
       "\n",
       "                      LIGHTCOND PEDROWNOTGRNT  SDOTCOLNUM SPEEDING ST_COLCODE  \\\n",
       "0                      Daylight           NaN         NaN      NaN         10   \n",
       "1       Dark - Street Lights On           NaN   6354039.0      NaN         11   \n",
       "2                      Daylight           NaN   4323031.0      NaN         32   \n",
       "3                      Daylight           NaN         NaN      NaN         23   \n",
       "4                      Daylight           NaN   4028032.0      NaN         10   \n",
       "...                         ...           ...         ...      ...        ...   \n",
       "194668                 Daylight           NaN         NaN      NaN         24   \n",
       "194669                 Daylight           NaN         NaN      NaN         13   \n",
       "194670                 Daylight           NaN         NaN      NaN         28   \n",
       "194671                     Dusk           NaN         NaN      NaN          5   \n",
       "194672                 Daylight           NaN         NaN      NaN         14   \n",
       "\n",
       "                                               ST_COLDESC  SEGLANEKEY  \\\n",
       "0                                       Entering at angle           0   \n",
       "1       From same direction - both going straight - bo...           0   \n",
       "2                                  One parked--one moving           0   \n",
       "3                        From same direction - all others           0   \n",
       "4                                       Entering at angle           0   \n",
       "...                                                   ...         ...   \n",
       "194668    From opposite direction - both moving - head-on           0   \n",
       "194669  From same direction - both going straight - bo...           0   \n",
       "194670  From opposite direction - one left turn - one ...           0   \n",
       "194671                       Vehicle Strikes Pedalcyclist        4308   \n",
       "194672  From same direction - both going straight - on...           0   \n",
       "\n",
       "        CROSSWALKKEY  HITPARKEDCAR  \n",
       "0                  0             N  \n",
       "1                  0             N  \n",
       "2                  0             N  \n",
       "3                  0             N  \n",
       "4                  0             N  \n",
       "...              ...           ...  \n",
       "194668             0             N  \n",
       "194669             0             N  \n",
       "194670             0             N  \n",
       "194671             0             N  \n",
       "194672             0             N  \n",
       "\n",
       "[194673 rows x 38 columns]>"
      ]
     },
     "execution_count": 6,
     "metadata": {},
     "output_type": "execute_result"
    }
   ],
   "source": [
    "#Get a decription of the raw data\n",
    "raw_df.describe"
   ]
  },
  {
   "cell_type": "code",
   "execution_count": 56,
   "metadata": {},
   "outputs": [
    {
     "data": {
      "text/plain": [
       "1    136485\n",
       "2     58188\n",
       "Name: SEVERITYCODE, dtype: int64"
      ]
     },
     "execution_count": 56,
     "metadata": {},
     "output_type": "execute_result"
    }
   ],
   "source": [
    "raw_df['SEVERITYCODE'].value_counts()"
   ]
  },
  {
   "cell_type": "code",
   "execution_count": 57,
   "metadata": {},
   "outputs": [
    {
     "data": {
      "text/plain": [
       "Matched      189786\n",
       "Unmatched      4887\n",
       "Name: STATUS, dtype: int64"
      ]
     },
     "execution_count": 57,
     "metadata": {},
     "output_type": "execute_result"
    }
   ],
   "source": [
    "raw_df['STATUS'].value_counts()"
   ]
  },
  {
   "cell_type": "code",
   "execution_count": 58,
   "metadata": {},
   "outputs": [
    {
     "data": {
      "text/plain": [
       "Clear                       111135\n",
       "Raining                      33145\n",
       "Overcast                     27714\n",
       "Unknown                      15091\n",
       "Snowing                        907\n",
       "Other                          832\n",
       "Fog/Smog/Smoke                 569\n",
       "Sleet/Hail/Freezing Rain       113\n",
       "Blowing Sand/Dirt               56\n",
       "Severe Crosswind                25\n",
       "Partly Cloudy                    5\n",
       "Name: WEATHER, dtype: int64"
      ]
     },
     "execution_count": 58,
     "metadata": {},
     "output_type": "execute_result"
    }
   ],
   "source": [
    "raw_df['WEATHER'].value_counts()"
   ]
  },
  {
   "cell_type": "code",
   "execution_count": 59,
   "metadata": {},
   "outputs": [
    {
     "data": {
      "text/plain": [
       "Dry               124510\n",
       "Wet                47474\n",
       "Unknown            15078\n",
       "Ice                 1209\n",
       "Snow/Slush          1004\n",
       "Other                132\n",
       "Standing Water       115\n",
       "Sand/Mud/Dirt         75\n",
       "Oil                   64\n",
       "Name: ROADCOND, dtype: int64"
      ]
     },
     "execution_count": 59,
     "metadata": {},
     "output_type": "execute_result"
    }
   ],
   "source": [
    "raw_df['ROADCOND'].value_counts()"
   ]
  },
  {
   "cell_type": "code",
   "execution_count": 60,
   "metadata": {},
   "outputs": [
    {
     "data": {
      "text/plain": [
       "Daylight                    116137\n",
       "Dark - Street Lights On      48507\n",
       "Unknown                      13473\n",
       "Dusk                          5902\n",
       "Dawn                          2502\n",
       "Dark - No Street Lights       1537\n",
       "Dark - Street Lights Off      1199\n",
       "Other                          235\n",
       "Dark - Unknown Lighting         11\n",
       "Name: LIGHTCOND, dtype: int64"
      ]
     },
     "execution_count": 60,
     "metadata": {},
     "output_type": "execute_result"
    }
   ],
   "source": [
    "raw_df['LIGHTCOND'].value_counts()"
   ]
  },
  {
   "cell_type": "code",
   "execution_count": 61,
   "metadata": {},
   "outputs": [
    {
     "data": {
      "text/plain": [
       "Parked Car    47987\n",
       "Angles        34674\n",
       "Rear Ended    34090\n",
       "Other         23703\n",
       "Sideswipe     18609\n",
       "Left Turn     13703\n",
       "Pedestrian     6608\n",
       "Cycles         5415\n",
       "Right Turn     2956\n",
       "Head On        2024\n",
       "Name: COLLISIONTYPE, dtype: int64"
      ]
     },
     "execution_count": 61,
     "metadata": {},
     "output_type": "execute_result"
    }
   ],
   "source": [
    "raw_df['COLLISIONTYPE'].value_counts()"
   ]
  },
  {
   "cell_type": "code",
   "execution_count": 62,
   "metadata": {},
   "outputs": [
    {
     "data": {
      "text/plain": [
       "Mid-Block (not related to intersection)              89800\n",
       "At Intersection (intersection related)               62810\n",
       "Mid-Block (but intersection related)                 22790\n",
       "Driveway Junction                                    10671\n",
       "At Intersection (but not related to intersection)     2098\n",
       "Ramp Junction                                          166\n",
       "Unknown                                                  9\n",
       "Name: JUNCTIONTYPE, dtype: int64"
      ]
     },
     "execution_count": 62,
     "metadata": {},
     "output_type": "execute_result"
    }
   ],
   "source": [
    "raw_df['JUNCTIONTYPE'].value_counts()"
   ]
  },
  {
   "cell_type": "code",
   "execution_count": 63,
   "metadata": {},
   "outputs": [
    {
     "data": {
      "text/plain": [
       "2     147650\n",
       "1      25748\n",
       "3      13010\n",
       "0       5085\n",
       "4       2426\n",
       "5        529\n",
       "6        146\n",
       "7         46\n",
       "8         15\n",
       "9          9\n",
       "11         6\n",
       "10         2\n",
       "12         1\n",
       "Name: VEHCOUNT, dtype: int64"
      ]
     },
     "execution_count": 63,
     "metadata": {},
     "output_type": "execute_result"
    }
   ],
   "source": [
    "raw_df['VEHCOUNT'].value_counts()"
   ]
  },
  {
   "cell_type": "code",
   "execution_count": 7,
   "metadata": {},
   "outputs": [
    {
     "data": {
      "text/plain": [
       "COLLISIONTYPE  WEATHER            ROADCOND  LIGHTCOND                SEVERITYCODE\n",
       "Angles         Blowing Sand/Dirt  Dry       Dark - Street Lights On  2                1\n",
       "                                            Daylight                 2                1\n",
       "                                  Wet       Dark - Street Lights On  2                1\n",
       "                                            Daylight                 1                2\n",
       "                                                                     2                1\n",
       "                                                                                     ..\n",
       "Sideswipe      Unknown            Wet       Daylight                 1               11\n",
       "                                                                     2                2\n",
       "                                            Dusk                     1                2\n",
       "                                                                     2                1\n",
       "                                            Unknown                  1                3\n",
       "Name: SEVERITYCODE, Length: 2137, dtype: int64"
      ]
     },
     "execution_count": 7,
     "metadata": {},
     "output_type": "execute_result"
    }
   ],
   "source": [
    "#Get some possible data groups to have a look at severity codes\n",
    "raw_df.groupby(['COLLISIONTYPE','WEATHER','ROADCOND','LIGHTCOND'])['SEVERITYCODE'].value_counts()  #value_counts(normalize=True)"
   ]
  },
  {
   "cell_type": "markdown",
   "metadata": {},
   "source": [
    "## FEATURE selection."
   ]
  },
  {
   "cell_type": "code",
   "execution_count": 8,
   "metadata": {},
   "outputs": [
    {
     "data": {
      "text/html": [
       "<div>\n",
       "<style scoped>\n",
       "    .dataframe tbody tr th:only-of-type {\n",
       "        vertical-align: middle;\n",
       "    }\n",
       "\n",
       "    .dataframe tbody tr th {\n",
       "        vertical-align: top;\n",
       "    }\n",
       "\n",
       "    .dataframe thead th {\n",
       "        text-align: right;\n",
       "    }\n",
       "</style>\n",
       "<table border=\"1\" class=\"dataframe\">\n",
       "  <thead>\n",
       "    <tr style=\"text-align: right;\">\n",
       "      <th></th>\n",
       "      <th>SEVERITYCODE</th>\n",
       "      <th>X</th>\n",
       "      <th>Y</th>\n",
       "      <th>VEHCOUNT</th>\n",
       "      <th>COLLISIONTYPE</th>\n",
       "      <th>WEATHER</th>\n",
       "      <th>ROADCOND</th>\n",
       "      <th>LIGHTCOND</th>\n",
       "      <th>INCDTTM</th>\n",
       "    </tr>\n",
       "  </thead>\n",
       "  <tbody>\n",
       "    <tr>\n",
       "      <th>194668</th>\n",
       "      <td>2</td>\n",
       "      <td>-122.290826</td>\n",
       "      <td>47.565408</td>\n",
       "      <td>2</td>\n",
       "      <td>Head On</td>\n",
       "      <td>Clear</td>\n",
       "      <td>Dry</td>\n",
       "      <td>Daylight</td>\n",
       "      <td>11/12/2018 8:12:00 AM</td>\n",
       "    </tr>\n",
       "    <tr>\n",
       "      <th>194669</th>\n",
       "      <td>1</td>\n",
       "      <td>-122.344526</td>\n",
       "      <td>47.690924</td>\n",
       "      <td>2</td>\n",
       "      <td>Rear Ended</td>\n",
       "      <td>Raining</td>\n",
       "      <td>Wet</td>\n",
       "      <td>Daylight</td>\n",
       "      <td>12/18/2018 9:14:00 AM</td>\n",
       "    </tr>\n",
       "    <tr>\n",
       "      <th>194670</th>\n",
       "      <td>2</td>\n",
       "      <td>-122.306689</td>\n",
       "      <td>47.683047</td>\n",
       "      <td>2</td>\n",
       "      <td>Left Turn</td>\n",
       "      <td>Clear</td>\n",
       "      <td>Dry</td>\n",
       "      <td>Daylight</td>\n",
       "      <td>1/19/2019 9:25:00 AM</td>\n",
       "    </tr>\n",
       "    <tr>\n",
       "      <th>194671</th>\n",
       "      <td>2</td>\n",
       "      <td>-122.355317</td>\n",
       "      <td>47.678734</td>\n",
       "      <td>1</td>\n",
       "      <td>Cycles</td>\n",
       "      <td>Clear</td>\n",
       "      <td>Dry</td>\n",
       "      <td>Dusk</td>\n",
       "      <td>1/15/2019 4:48:00 PM</td>\n",
       "    </tr>\n",
       "    <tr>\n",
       "      <th>194672</th>\n",
       "      <td>1</td>\n",
       "      <td>-122.289360</td>\n",
       "      <td>47.611017</td>\n",
       "      <td>2</td>\n",
       "      <td>Rear Ended</td>\n",
       "      <td>Clear</td>\n",
       "      <td>Wet</td>\n",
       "      <td>Daylight</td>\n",
       "      <td>11/30/2018 3:45:00 PM</td>\n",
       "    </tr>\n",
       "  </tbody>\n",
       "</table>\n",
       "</div>"
      ],
      "text/plain": [
       "        SEVERITYCODE           X          Y  VEHCOUNT COLLISIONTYPE  WEATHER  \\\n",
       "194668             2 -122.290826  47.565408         2       Head On    Clear   \n",
       "194669             1 -122.344526  47.690924         2    Rear Ended  Raining   \n",
       "194670             2 -122.306689  47.683047         2     Left Turn    Clear   \n",
       "194671             2 -122.355317  47.678734         1        Cycles    Clear   \n",
       "194672             1 -122.289360  47.611017         2    Rear Ended    Clear   \n",
       "\n",
       "       ROADCOND LIGHTCOND                INCDTTM  \n",
       "194668      Dry  Daylight  11/12/2018 8:12:00 AM  \n",
       "194669      Wet  Daylight  12/18/2018 9:14:00 AM  \n",
       "194670      Dry  Daylight   1/19/2019 9:25:00 AM  \n",
       "194671      Dry      Dusk   1/15/2019 4:48:00 PM  \n",
       "194672      Wet  Daylight  11/30/2018 3:45:00 PM  "
      ]
     },
     "execution_count": 8,
     "metadata": {},
     "output_type": "execute_result"
    }
   ],
   "source": [
    "#get the features that can be used for map plots and predicting severity\n",
    "feature_df = raw_df[['SEVERITYCODE','X','Y','VEHCOUNT','COLLISIONTYPE','WEATHER','ROADCOND','LIGHTCOND','INCDTTM']]\n",
    "feature_df.tail()"
   ]
  },
  {
   "cell_type": "code",
   "execution_count": 9,
   "metadata": {},
   "outputs": [
    {
     "data": {
      "text/plain": [
       "(194673, 9)"
      ]
     },
     "execution_count": 9,
     "metadata": {},
     "output_type": "execute_result"
    }
   ],
   "source": [
    "#confirm df size\n",
    "feature_df.shape"
   ]
  },
  {
   "cell_type": "markdown",
   "metadata": {},
   "source": [
    "## CLEAN the data"
   ]
  },
  {
   "cell_type": "code",
   "execution_count": 67,
   "metadata": {},
   "outputs": [
    {
     "name": "stdout",
     "output_type": "stream",
     "text": [
      "(183950, 9)\n"
     ]
    },
    {
     "data": {
      "text/html": [
       "<div>\n",
       "<style scoped>\n",
       "    .dataframe tbody tr th:only-of-type {\n",
       "        vertical-align: middle;\n",
       "    }\n",
       "\n",
       "    .dataframe tbody tr th {\n",
       "        vertical-align: top;\n",
       "    }\n",
       "\n",
       "    .dataframe thead th {\n",
       "        text-align: right;\n",
       "    }\n",
       "</style>\n",
       "<table border=\"1\" class=\"dataframe\">\n",
       "  <thead>\n",
       "    <tr style=\"text-align: right;\">\n",
       "      <th></th>\n",
       "      <th>SEVERITYCODE</th>\n",
       "      <th>X</th>\n",
       "      <th>Y</th>\n",
       "      <th>VEHCOUNT</th>\n",
       "      <th>COLLISIONTYPE</th>\n",
       "      <th>WEATHER</th>\n",
       "      <th>ROADCOND</th>\n",
       "      <th>LIGHTCOND</th>\n",
       "      <th>INCDTTM</th>\n",
       "    </tr>\n",
       "  </thead>\n",
       "  <tbody>\n",
       "    <tr>\n",
       "      <th>0</th>\n",
       "      <td>2</td>\n",
       "      <td>-122.323148</td>\n",
       "      <td>47.703140</td>\n",
       "      <td>2</td>\n",
       "      <td>Angles</td>\n",
       "      <td>Overcast</td>\n",
       "      <td>Wet</td>\n",
       "      <td>Daylight</td>\n",
       "      <td>2013-03-27 14:54:00</td>\n",
       "    </tr>\n",
       "    <tr>\n",
       "      <th>1</th>\n",
       "      <td>1</td>\n",
       "      <td>-122.347294</td>\n",
       "      <td>47.647172</td>\n",
       "      <td>2</td>\n",
       "      <td>Sideswipe</td>\n",
       "      <td>Raining</td>\n",
       "      <td>Wet</td>\n",
       "      <td>Dark - Street Lights On</td>\n",
       "      <td>2006-12-20 18:55:00</td>\n",
       "    </tr>\n",
       "    <tr>\n",
       "      <th>2</th>\n",
       "      <td>1</td>\n",
       "      <td>-122.334540</td>\n",
       "      <td>47.607871</td>\n",
       "      <td>3</td>\n",
       "      <td>Parked Car</td>\n",
       "      <td>Overcast</td>\n",
       "      <td>Dry</td>\n",
       "      <td>Daylight</td>\n",
       "      <td>2004-11-18 10:20:00</td>\n",
       "    </tr>\n",
       "    <tr>\n",
       "      <th>3</th>\n",
       "      <td>1</td>\n",
       "      <td>-122.334803</td>\n",
       "      <td>47.604803</td>\n",
       "      <td>3</td>\n",
       "      <td>Other</td>\n",
       "      <td>Clear</td>\n",
       "      <td>Dry</td>\n",
       "      <td>Daylight</td>\n",
       "      <td>2013-03-29 09:26:00</td>\n",
       "    </tr>\n",
       "    <tr>\n",
       "      <th>4</th>\n",
       "      <td>2</td>\n",
       "      <td>-122.306426</td>\n",
       "      <td>47.545739</td>\n",
       "      <td>2</td>\n",
       "      <td>Angles</td>\n",
       "      <td>Raining</td>\n",
       "      <td>Wet</td>\n",
       "      <td>Daylight</td>\n",
       "      <td>2004-01-28 08:04:00</td>\n",
       "    </tr>\n",
       "  </tbody>\n",
       "</table>\n",
       "</div>"
      ],
      "text/plain": [
       "   SEVERITYCODE           X          Y  VEHCOUNT COLLISIONTYPE   WEATHER  \\\n",
       "0             2 -122.323148  47.703140         2        Angles  Overcast   \n",
       "1             1 -122.347294  47.647172         2     Sideswipe   Raining   \n",
       "2             1 -122.334540  47.607871         3    Parked Car  Overcast   \n",
       "3             1 -122.334803  47.604803         3         Other     Clear   \n",
       "4             2 -122.306426  47.545739         2        Angles   Raining   \n",
       "\n",
       "  ROADCOND                LIGHTCOND             INCDTTM  \n",
       "0      Wet                 Daylight 2013-03-27 14:54:00  \n",
       "1      Wet  Dark - Street Lights On 2006-12-20 18:55:00  \n",
       "2      Dry                 Daylight 2004-11-18 10:20:00  \n",
       "3      Dry                 Daylight 2013-03-29 09:26:00  \n",
       "4      Wet                 Daylight 2004-01-28 08:04:00  "
      ]
     },
     "execution_count": 67,
     "metadata": {},
     "output_type": "execute_result"
    }
   ],
   "source": [
    "#DROP rows with missing values\n",
    "feature_df = feature_df.dropna()\n",
    "\n",
    "#DROP rows that do not include vehicles\n",
    "feature_df = feature_df[feature_df['VEHCOUNT']>0]\n",
    "\n",
    "#CONVERT INCDTTM to datetime in order to access Date and Time components\n",
    "feature_df['INCDTTM'] = pd.to_datetime(feature_df['INCDTTM'])\n",
    "\n",
    "print(feature_df.shape)\n",
    "feature_df.head()"
   ]
  },
  {
   "cell_type": "code",
   "execution_count": 68,
   "metadata": {},
   "outputs": [
    {
     "data": {
      "text/plain": [
       "SEVERITYCODE     0\n",
       "X                0\n",
       "Y                0\n",
       "VEHCOUNT         0\n",
       "COLLISIONTYPE    0\n",
       "WEATHER          0\n",
       "ROADCOND         0\n",
       "LIGHTCOND        0\n",
       "INCDTTM          0\n",
       "dtype: int64"
      ]
     },
     "execution_count": 68,
     "metadata": {},
     "output_type": "execute_result"
    }
   ],
   "source": [
    "# count the number of missing values per column to determine if additional cleaning is required\n",
    "feature_df.apply(lambda x: sum(x.isnull().values), axis = 0)"
   ]
  },
  {
   "cell_type": "code",
   "execution_count": 69,
   "metadata": {},
   "outputs": [
    {
     "data": {
      "text/plain": [
       "0"
      ]
     },
     "execution_count": 69,
     "metadata": {},
     "output_type": "execute_result"
    }
   ],
   "source": [
    "# count the number of rows that are missing at least 1 of the values\n",
    "sum([True for idx,row in feature_df.iterrows() if any(row.isnull())])"
   ]
  },
  {
   "cell_type": "code",
   "execution_count": 70,
   "metadata": {},
   "outputs": [
    {
     "data": {
      "text/plain": [
       "SEVERITYCODE              int64\n",
       "X                       float64\n",
       "Y                       float64\n",
       "VEHCOUNT                  int64\n",
       "COLLISIONTYPE            object\n",
       "WEATHER                  object\n",
       "ROADCOND                 object\n",
       "LIGHTCOND                object\n",
       "INCDTTM          datetime64[ns]\n",
       "dtype: object"
      ]
     },
     "execution_count": 70,
     "metadata": {},
     "output_type": "execute_result"
    }
   ],
   "source": [
    "#dataframe data types\n",
    "feature_df.dtypes"
   ]
  },
  {
   "cell_type": "markdown",
   "metadata": {},
   "source": [
    "## ANALYZE the feature set (feature_df)"
   ]
  },
  {
   "cell_type": "code",
   "execution_count": 71,
   "metadata": {},
   "outputs": [
    {
     "name": "stdout",
     "output_type": "stream",
     "text": [
      "min 2004-01-01 00:00:00\n",
      "max 2020-04-28 11:29:00\n"
     ]
    }
   ],
   "source": [
    "#Date range within dataframe\n",
    "print('min',feature_df['INCDTTM'].min())\n",
    "print('max',feature_df['INCDTTM'].max())"
   ]
  },
  {
   "cell_type": "code",
   "execution_count": 72,
   "metadata": {},
   "outputs": [
    {
     "data": {
      "text/plain": [
       "INCDTTM\n",
       "2004    11560\n",
       "2005    14753\n",
       "2006    14800\n",
       "2007    14017\n",
       "2008    13154\n",
       "2009    11296\n",
       "2010    10512\n",
       "2011    10588\n",
       "2012     9996\n",
       "2013     9734\n",
       "2014    11166\n",
       "2015    12157\n",
       "2016    10558\n",
       "2017    10146\n",
       "2018     9652\n",
       "2019     8618\n",
       "2020     1243\n",
       "dtype: int64"
      ]
     },
     "execution_count": 72,
     "metadata": {},
     "output_type": "execute_result"
    }
   ],
   "source": [
    "#accident count by year. \n",
    "#Trend is toward few accidents after 2015\n",
    "feature_df.groupby([feature_df.INCDTTM.dt.year]).size()"
   ]
  },
  {
   "cell_type": "code",
   "execution_count": 73,
   "metadata": {},
   "outputs": [
    {
     "data": {
      "text/plain": [
       "INCDTTM\n",
       "0     28573\n",
       "1      3294\n",
       "2      3457\n",
       "3      1593\n",
       "4      1175\n",
       "5      1584\n",
       "6      3078\n",
       "7      6337\n",
       "8      8257\n",
       "9      7786\n",
       "10     7213\n",
       "11     7965\n",
       "12    10046\n",
       "13     9972\n",
       "14    10361\n",
       "15    11199\n",
       "16    11793\n",
       "17    12579\n",
       "18     9462\n",
       "19     7053\n",
       "20     6037\n",
       "21     5411\n",
       "22     5296\n",
       "23     4429\n",
       "dtype: int64"
      ]
     },
     "execution_count": 73,
     "metadata": {},
     "output_type": "execute_result"
    }
   ],
   "source": [
    "#accident count by HOUR\n",
    "feature_df.groupby([feature_df.INCDTTM.dt.hour]).size()"
   ]
  },
  {
   "cell_type": "code",
   "execution_count": 74,
   "metadata": {},
   "outputs": [
    {
     "data": {
      "text/plain": [
       "1    128143\n",
       "2     55807\n",
       "Name: SEVERITYCODE, dtype: int64"
      ]
     },
     "execution_count": 74,
     "metadata": {},
     "output_type": "execute_result"
    }
   ],
   "source": [
    "feature_df['SEVERITYCODE'].value_counts()"
   ]
  },
  {
   "cell_type": "code",
   "execution_count": 75,
   "metadata": {},
   "outputs": [
    {
     "data": {
      "text/plain": [
       "2     143682\n",
       "1      24455\n",
       "3      12699\n",
       "4       2377\n",
       "5        520\n",
       "6        143\n",
       "7         42\n",
       "8         15\n",
       "9          9\n",
       "11         5\n",
       "10         2\n",
       "12         1\n",
       "Name: VEHCOUNT, dtype: int64"
      ]
     },
     "execution_count": 75,
     "metadata": {},
     "output_type": "execute_result"
    }
   ],
   "source": [
    "feature_df['VEHCOUNT'].value_counts()"
   ]
  },
  {
   "cell_type": "code",
   "execution_count": 76,
   "metadata": {},
   "outputs": [
    {
     "data": {
      "text/plain": [
       "Clear                       108681\n",
       "Raining                      31962\n",
       "Overcast                     27071\n",
       "Unknown                      13841\n",
       "Snowing                        888\n",
       "Other                          764\n",
       "Fog/Smog/Smoke                 553\n",
       "Sleet/Hail/Freezing Rain       112\n",
       "Blowing Sand/Dirt               49\n",
       "Severe Crosswind                24\n",
       "Partly Cloudy                    5\n",
       "Name: WEATHER, dtype: int64"
      ]
     },
     "execution_count": 76,
     "metadata": {},
     "output_type": "execute_result"
    }
   ],
   "source": [
    "feature_df['WEATHER'].value_counts()"
   ]
  },
  {
   "cell_type": "code",
   "execution_count": 77,
   "metadata": {},
   "outputs": [
    {
     "data": {
      "text/plain": [
       "SEVERITYCODE  WEATHER                 \n",
       "1             Clear                       73557\n",
       "              Raining                     21130\n",
       "              Overcast                    18500\n",
       "              Unknown                     13070\n",
       "              Snowing                       722\n",
       "              Other                         655\n",
       "              Fog/Smog/Smoke                369\n",
       "              Sleet/Hail/Freezing Rain       85\n",
       "              Blowing Sand/Dirt              36\n",
       "              Severe Crosswind               17\n",
       "              Partly Cloudy                   2\n",
       "2             Clear                       35124\n",
       "              Raining                     10832\n",
       "              Overcast                     8571\n",
       "              Unknown                       771\n",
       "              Fog/Smog/Smoke                184\n",
       "              Snowing                       166\n",
       "              Other                         109\n",
       "              Sleet/Hail/Freezing Rain       27\n",
       "              Blowing Sand/Dirt              13\n",
       "              Severe Crosswind                7\n",
       "              Partly Cloudy                   3\n",
       "Name: WEATHER, dtype: int64"
      ]
     },
     "execution_count": 77,
     "metadata": {},
     "output_type": "execute_result"
    }
   ],
   "source": [
    "feature_df.groupby(['SEVERITYCODE'])['WEATHER'].value_counts()"
   ]
  },
  {
   "cell_type": "code",
   "execution_count": 78,
   "metadata": {},
   "outputs": [
    {
     "data": {
      "text/plain": [
       "Dry               121706\n",
       "Wet                45971\n",
       "Unknown            13788\n",
       "Ice                 1168\n",
       "Snow/Slush           984\n",
       "Other                115\n",
       "Standing Water       102\n",
       "Sand/Mud/Dirt         63\n",
       "Oil                   53\n",
       "Name: ROADCOND, dtype: int64"
      ]
     },
     "execution_count": 78,
     "metadata": {},
     "output_type": "execute_result"
    }
   ],
   "source": [
    "feature_df['ROADCOND'].value_counts()"
   ]
  },
  {
   "cell_type": "code",
   "execution_count": 79,
   "metadata": {},
   "outputs": [
    {
     "data": {
      "text/plain": [
       "SEVERITYCODE  ROADCOND      \n",
       "1             Dry               82464\n",
       "              Wet               30645\n",
       "              Unknown           13080\n",
       "              Ice                 908\n",
       "              Snow/Slush          819\n",
       "              Other                77\n",
       "              Standing Water       76\n",
       "              Sand/Mud/Dirt        41\n",
       "              Oil                  33\n",
       "2             Dry               39242\n",
       "              Wet               15326\n",
       "              Unknown             708\n",
       "              Ice                 260\n",
       "              Snow/Slush          165\n",
       "              Other                38\n",
       "              Standing Water       26\n",
       "              Sand/Mud/Dirt        22\n",
       "              Oil                  20\n",
       "Name: ROADCOND, dtype: int64"
      ]
     },
     "execution_count": 79,
     "metadata": {},
     "output_type": "execute_result"
    }
   ],
   "source": [
    "feature_df.groupby(['SEVERITYCODE'])['ROADCOND'].value_counts()"
   ]
  },
  {
   "cell_type": "code",
   "execution_count": 80,
   "metadata": {},
   "outputs": [
    {
     "data": {
      "text/plain": [
       "Daylight                    113351\n",
       "Dark - Street Lights On      47220\n",
       "Unknown                      12413\n",
       "Dusk                          5757\n",
       "Dawn                          2417\n",
       "Dark - No Street Lights       1448\n",
       "Dark - Street Lights Off      1145\n",
       "Other                          188\n",
       "Dark - Unknown Lighting         11\n",
       "Name: LIGHTCOND, dtype: int64"
      ]
     },
     "execution_count": 80,
     "metadata": {},
     "output_type": "execute_result"
    }
   ],
   "source": [
    "feature_df['LIGHTCOND'].value_counts()"
   ]
  },
  {
   "cell_type": "code",
   "execution_count": 81,
   "metadata": {},
   "outputs": [
    {
     "data": {
      "text/plain": [
       "SEVERITYCODE  LIGHTCOND               \n",
       "1             Daylight                    75642\n",
       "              Dark - Street Lights On     33081\n",
       "              Unknown                     11831\n",
       "              Dusk                         3851\n",
       "              Dawn                         1611\n",
       "              Dark - No Street Lights      1130\n",
       "              Dark - Street Lights Off      839\n",
       "              Other                         151\n",
       "              Dark - Unknown Lighting         7\n",
       "2             Daylight                    37709\n",
       "              Dark - Street Lights On     14139\n",
       "              Dusk                         1906\n",
       "              Dawn                          806\n",
       "              Unknown                       582\n",
       "              Dark - No Street Lights       318\n",
       "              Dark - Street Lights Off      306\n",
       "              Other                          37\n",
       "              Dark - Unknown Lighting         4\n",
       "Name: LIGHTCOND, dtype: int64"
      ]
     },
     "execution_count": 81,
     "metadata": {},
     "output_type": "execute_result"
    }
   ],
   "source": [
    "feature_df.groupby(['SEVERITYCODE'])['LIGHTCOND'].value_counts()"
   ]
  },
  {
   "cell_type": "markdown",
   "metadata": {},
   "source": [
    "## Reduce the working dataset to a subset for train\\test\\plot"
   ]
  },
  {
   "cell_type": "code",
   "execution_count": 82,
   "metadata": {},
   "outputs": [
    {
     "name": "stdout",
     "output_type": "stream",
     "text": [
      "min 2019-01-01 00:12:00\n",
      "max 2020-04-28 11:29:00\n",
      "shape (9861, 9)\n"
     ]
    },
    {
     "data": {
      "text/html": [
       "<div>\n",
       "<style scoped>\n",
       "    .dataframe tbody tr th:only-of-type {\n",
       "        vertical-align: middle;\n",
       "    }\n",
       "\n",
       "    .dataframe tbody tr th {\n",
       "        vertical-align: top;\n",
       "    }\n",
       "\n",
       "    .dataframe thead th {\n",
       "        text-align: right;\n",
       "    }\n",
       "</style>\n",
       "<table border=\"1\" class=\"dataframe\">\n",
       "  <thead>\n",
       "    <tr style=\"text-align: right;\">\n",
       "      <th></th>\n",
       "      <th>SEVERITYCODE</th>\n",
       "      <th>X</th>\n",
       "      <th>Y</th>\n",
       "      <th>VEHCOUNT</th>\n",
       "      <th>COLLISIONTYPE</th>\n",
       "      <th>WEATHER</th>\n",
       "      <th>ROADCOND</th>\n",
       "      <th>LIGHTCOND</th>\n",
       "      <th>INCDTTM</th>\n",
       "    </tr>\n",
       "  </thead>\n",
       "  <tbody>\n",
       "    <tr>\n",
       "      <th>5</th>\n",
       "      <td>1</td>\n",
       "      <td>-122.387598</td>\n",
       "      <td>47.690575</td>\n",
       "      <td>2</td>\n",
       "      <td>Angles</td>\n",
       "      <td>Clear</td>\n",
       "      <td>Dry</td>\n",
       "      <td>Daylight</td>\n",
       "      <td>2019-04-20 17:42:00</td>\n",
       "    </tr>\n",
       "    <tr>\n",
       "      <th>7</th>\n",
       "      <td>2</td>\n",
       "      <td>-122.320780</td>\n",
       "      <td>47.614076</td>\n",
       "      <td>1</td>\n",
       "      <td>Cycles</td>\n",
       "      <td>Clear</td>\n",
       "      <td>Dry</td>\n",
       "      <td>Daylight</td>\n",
       "      <td>2020-04-15 17:47:00</td>\n",
       "    </tr>\n",
       "    <tr>\n",
       "      <th>18</th>\n",
       "      <td>2</td>\n",
       "      <td>-122.328270</td>\n",
       "      <td>47.571420</td>\n",
       "      <td>3</td>\n",
       "      <td>Rear Ended</td>\n",
       "      <td>Clear</td>\n",
       "      <td>Dry</td>\n",
       "      <td>Daylight</td>\n",
       "      <td>2020-04-17 14:44:00</td>\n",
       "    </tr>\n",
       "    <tr>\n",
       "      <th>25</th>\n",
       "      <td>2</td>\n",
       "      <td>-122.312857</td>\n",
       "      <td>47.599218</td>\n",
       "      <td>1</td>\n",
       "      <td>Cycles</td>\n",
       "      <td>Clear</td>\n",
       "      <td>Dry</td>\n",
       "      <td>Daylight</td>\n",
       "      <td>2019-04-25 09:40:00</td>\n",
       "    </tr>\n",
       "    <tr>\n",
       "      <th>35</th>\n",
       "      <td>1</td>\n",
       "      <td>-122.318741</td>\n",
       "      <td>47.676567</td>\n",
       "      <td>2</td>\n",
       "      <td>Parked Car</td>\n",
       "      <td>Raining</td>\n",
       "      <td>Wet</td>\n",
       "      <td>Daylight</td>\n",
       "      <td>2019-04-27 13:26:00</td>\n",
       "    </tr>\n",
       "  </tbody>\n",
       "</table>\n",
       "</div>"
      ],
      "text/plain": [
       "    SEVERITYCODE           X          Y  VEHCOUNT COLLISIONTYPE  WEATHER  \\\n",
       "5              1 -122.387598  47.690575         2        Angles    Clear   \n",
       "7              2 -122.320780  47.614076         1        Cycles    Clear   \n",
       "18             2 -122.328270  47.571420         3    Rear Ended    Clear   \n",
       "25             2 -122.312857  47.599218         1        Cycles    Clear   \n",
       "35             1 -122.318741  47.676567         2    Parked Car  Raining   \n",
       "\n",
       "   ROADCOND LIGHTCOND             INCDTTM  \n",
       "5       Dry  Daylight 2019-04-20 17:42:00  \n",
       "7       Dry  Daylight 2020-04-15 17:47:00  \n",
       "18      Dry  Daylight 2020-04-17 14:44:00  \n",
       "25      Dry  Daylight 2019-04-25 09:40:00  \n",
       "35      Wet  Daylight 2019-04-27 13:26:00  "
      ]
     },
     "execution_count": 82,
     "metadata": {},
     "output_type": "execute_result"
    }
   ],
   "source": [
    "#REDUCE the data set size to 2019/2020\n",
    "feature_reduced_df = feature_df[~(feature_df['INCDTTM'] < '2019-01-01')]\n",
    "\n",
    "#Confirm date range for new dataframe\n",
    "print('min',feature_reduced_df['INCDTTM'].min())\n",
    "print('max',feature_reduced_df['INCDTTM'].max())\n",
    "print('shape',feature_reduced_df.shape)\n",
    "feature_reduced_df.head()"
   ]
  },
  {
   "cell_type": "markdown",
   "metadata": {},
   "source": [
    "## ANALYZE the reduced feature set (feature_reduced_df)"
   ]
  },
  {
   "cell_type": "code",
   "execution_count": 83,
   "metadata": {},
   "outputs": [
    {
     "data": {
      "text/plain": [
       "INCDTTM\n",
       "2019    8618\n",
       "2020    1243\n",
       "dtype: int64"
      ]
     },
     "execution_count": 83,
     "metadata": {},
     "output_type": "execute_result"
    }
   ],
   "source": [
    "#accident count by year. \n",
    "feature_reduced_df.groupby([feature_reduced_df.INCDTTM.dt.year]).size()"
   ]
  },
  {
   "cell_type": "code",
   "execution_count": 84,
   "metadata": {},
   "outputs": [
    {
     "data": {
      "text/plain": [
       "1    6537\n",
       "2    3324\n",
       "Name: SEVERITYCODE, dtype: int64"
      ]
     },
     "execution_count": 84,
     "metadata": {},
     "output_type": "execute_result"
    }
   ],
   "source": [
    "feature_reduced_df['SEVERITYCODE'].value_counts()"
   ]
  },
  {
   "cell_type": "code",
   "execution_count": 88,
   "metadata": {},
   "outputs": [
    {
     "data": {
      "text/plain": [
       "SEVERITYCODE  COLLISIONTYPE\n",
       "1             Parked Car       1815\n",
       "              Angles           1253\n",
       "              Rear Ended        985\n",
       "              Sideswipe         969\n",
       "              Other             814\n",
       "              Left Turn         413\n",
       "              Right Turn        114\n",
       "              Pedestrian         68\n",
       "              Head On            64\n",
       "              Cycles             42\n",
       "2             Angles            815\n",
       "              Rear Ended        683\n",
       "              Pedestrian        426\n",
       "              Cycles            336\n",
       "              Left Turn         336\n",
       "              Other             289\n",
       "              Sideswipe         192\n",
       "              Parked Car        173\n",
       "              Head On            48\n",
       "              Right Turn         26\n",
       "Name: COLLISIONTYPE, dtype: int64"
      ]
     },
     "execution_count": 88,
     "metadata": {},
     "output_type": "execute_result"
    }
   ],
   "source": [
    "feature_reduced_df.groupby(['SEVERITYCODE'])['COLLISIONTYPE'].value_counts()"
   ]
  },
  {
   "cell_type": "code",
   "execution_count": 89,
   "metadata": {},
   "outputs": [
    {
     "data": {
      "text/plain": [
       "SEVERITYCODE  WEATHER                 \n",
       "1             Clear                       4166\n",
       "              Raining                     1016\n",
       "              Overcast                     994\n",
       "              Unknown                      215\n",
       "              Snowing                       79\n",
       "              Other                         40\n",
       "              Blowing Sand/Dirt             11\n",
       "              Fog/Smog/Smoke                 9\n",
       "              Sleet/Hail/Freezing Rain       4\n",
       "              Partly Cloudy                  2\n",
       "              Severe Crosswind               1\n",
       "2             Clear                       2221\n",
       "              Raining                      543\n",
       "              Overcast                     504\n",
       "              Snowing                       17\n",
       "              Unknown                       16\n",
       "              Other                         12\n",
       "              Fog/Smog/Smoke                 4\n",
       "              Partly Cloudy                  3\n",
       "              Sleet/Hail/Freezing Rain       2\n",
       "              Blowing Sand/Dirt              1\n",
       "              Severe Crosswind               1\n",
       "Name: WEATHER, dtype: int64"
      ]
     },
     "execution_count": 89,
     "metadata": {},
     "output_type": "execute_result"
    }
   ],
   "source": [
    "feature_reduced_df.groupby(['SEVERITYCODE'])['WEATHER'].value_counts()"
   ]
  },
  {
   "cell_type": "code",
   "execution_count": 90,
   "metadata": {},
   "outputs": [
    {
     "data": {
      "text/plain": [
       "SEVERITYCODE  ROADCOND      \n",
       "1             Dry               4541\n",
       "              Wet               1593\n",
       "              Unknown            247\n",
       "              Snow/Slush          74\n",
       "              Ice                 67\n",
       "              Other                7\n",
       "              Oil                  4\n",
       "              Standing Water       4\n",
       "2             Dry               2403\n",
       "              Wet                842\n",
       "              Unknown             38\n",
       "              Ice                 20\n",
       "              Snow/Slush          14\n",
       "              Other                6\n",
       "              Sand/Mud/Dirt        1\n",
       "Name: ROADCOND, dtype: int64"
      ]
     },
     "execution_count": 90,
     "metadata": {},
     "output_type": "execute_result"
    }
   ],
   "source": [
    "feature_reduced_df.groupby(['SEVERITYCODE'])['ROADCOND'].value_counts()"
   ]
  },
  {
   "cell_type": "code",
   "execution_count": 91,
   "metadata": {},
   "outputs": [
    {
     "data": {
      "text/plain": [
       "SEVERITYCODE  LIGHTCOND               \n",
       "1             Daylight                    4179\n",
       "              Dark - Street Lights On     1724\n",
       "              Unknown                      219\n",
       "              Dusk                         187\n",
       "              Dawn                         104\n",
       "              Dark - No Street Lights       67\n",
       "              Dark - Street Lights Off      40\n",
       "              Other                         10\n",
       "              Dark - Unknown Lighting        7\n",
       "2             Daylight                    2255\n",
       "              Dark - Street Lights On      840\n",
       "              Dusk                         123\n",
       "              Dawn                          52\n",
       "              Dark - No Street Lights       19\n",
       "              Unknown                       15\n",
       "              Dark - Street Lights Off      10\n",
       "              Other                          6\n",
       "              Dark - Unknown Lighting        4\n",
       "Name: LIGHTCOND, dtype: int64"
      ]
     },
     "execution_count": 91,
     "metadata": {},
     "output_type": "execute_result"
    }
   ],
   "source": [
    "feature_reduced_df.groupby(['SEVERITYCODE'])['LIGHTCOND'].value_counts()"
   ]
  },
  {
   "cell_type": "markdown",
   "metadata": {},
   "source": [
    "## Show accidents on City MAP"
   ]
  },
  {
   "cell_type": "code",
   "execution_count": 92,
   "metadata": {},
   "outputs": [
    {
     "name": "stdout",
     "output_type": "stream",
     "text": [
      "shape (6, 9)\n"
     ]
    },
    {
     "data": {
      "text/html": [
       "<div>\n",
       "<style scoped>\n",
       "    .dataframe tbody tr th:only-of-type {\n",
       "        vertical-align: middle;\n",
       "    }\n",
       "\n",
       "    .dataframe tbody tr th {\n",
       "        vertical-align: top;\n",
       "    }\n",
       "\n",
       "    .dataframe thead th {\n",
       "        text-align: right;\n",
       "    }\n",
       "</style>\n",
       "<table border=\"1\" class=\"dataframe\">\n",
       "  <thead>\n",
       "    <tr style=\"text-align: right;\">\n",
       "      <th></th>\n",
       "      <th>SEVERITYCODE</th>\n",
       "      <th>X</th>\n",
       "      <th>Y</th>\n",
       "      <th>VEHCOUNT</th>\n",
       "      <th>COLLISIONTYPE</th>\n",
       "      <th>WEATHER</th>\n",
       "      <th>ROADCOND</th>\n",
       "      <th>LIGHTCOND</th>\n",
       "      <th>INCDTTM</th>\n",
       "    </tr>\n",
       "  </thead>\n",
       "  <tbody>\n",
       "    <tr>\n",
       "      <th>143</th>\n",
       "      <td>1</td>\n",
       "      <td>-122.379426</td>\n",
       "      <td>47.675993</td>\n",
       "      <td>2</td>\n",
       "      <td>Parked Car</td>\n",
       "      <td>Overcast</td>\n",
       "      <td>Wet</td>\n",
       "      <td>Dark - Street Lights On</td>\n",
       "      <td>2020-04-25 23:00:00</td>\n",
       "    </tr>\n",
       "    <tr>\n",
       "      <th>392</th>\n",
       "      <td>1</td>\n",
       "      <td>-122.344977</td>\n",
       "      <td>47.723212</td>\n",
       "      <td>2</td>\n",
       "      <td>Angles</td>\n",
       "      <td>Raining</td>\n",
       "      <td>Wet</td>\n",
       "      <td>Daylight</td>\n",
       "      <td>2020-04-25 08:29:00</td>\n",
       "    </tr>\n",
       "    <tr>\n",
       "      <th>551</th>\n",
       "      <td>1</td>\n",
       "      <td>-122.274106</td>\n",
       "      <td>47.667500</td>\n",
       "      <td>1</td>\n",
       "      <td>Other</td>\n",
       "      <td>Clear</td>\n",
       "      <td>Dry</td>\n",
       "      <td>Dawn</td>\n",
       "      <td>2020-04-27 05:28:00</td>\n",
       "    </tr>\n",
       "    <tr>\n",
       "      <th>562</th>\n",
       "      <td>2</td>\n",
       "      <td>-122.321877</td>\n",
       "      <td>47.605770</td>\n",
       "      <td>2</td>\n",
       "      <td>Left Turn</td>\n",
       "      <td>Overcast</td>\n",
       "      <td>Dry</td>\n",
       "      <td>Daylight</td>\n",
       "      <td>2020-04-26 15:20:00</td>\n",
       "    </tr>\n",
       "    <tr>\n",
       "      <th>192160</th>\n",
       "      <td>1</td>\n",
       "      <td>-122.343624</td>\n",
       "      <td>47.617528</td>\n",
       "      <td>2</td>\n",
       "      <td>Angles</td>\n",
       "      <td>Clear</td>\n",
       "      <td>Dry</td>\n",
       "      <td>Daylight</td>\n",
       "      <td>2020-04-27 13:38:00</td>\n",
       "    </tr>\n",
       "  </tbody>\n",
       "</table>\n",
       "</div>"
      ],
      "text/plain": [
       "        SEVERITYCODE           X          Y  VEHCOUNT COLLISIONTYPE   WEATHER  \\\n",
       "143                1 -122.379426  47.675993         2    Parked Car  Overcast   \n",
       "392                1 -122.344977  47.723212         2        Angles   Raining   \n",
       "551                1 -122.274106  47.667500         1         Other     Clear   \n",
       "562                2 -122.321877  47.605770         2     Left Turn  Overcast   \n",
       "192160             1 -122.343624  47.617528         2        Angles     Clear   \n",
       "\n",
       "       ROADCOND                LIGHTCOND             INCDTTM  \n",
       "143         Wet  Dark - Street Lights On 2020-04-25 23:00:00  \n",
       "392         Wet                 Daylight 2020-04-25 08:29:00  \n",
       "551         Dry                     Dawn 2020-04-27 05:28:00  \n",
       "562         Dry                 Daylight 2020-04-26 15:20:00  \n",
       "192160      Dry                 Daylight 2020-04-27 13:38:00  "
      ]
     },
     "execution_count": 92,
     "metadata": {},
     "output_type": "execute_result"
    }
   ],
   "source": [
    "#choose accidents within the last <timeframe - TBD> to show on a map. The map can be redrawn based on an interval i.e. 15/30/60 minutes.\n",
    "map_accident = feature_reduced_df[~(feature_reduced_df['INCDTTM'] < '2020-04-25')]\n",
    "print('shape',map_accident.shape)\n",
    "map_accident.head()"
   ]
  },
  {
   "cell_type": "markdown",
   "metadata": {},
   "source": [
    "## Use folium for mapping"
   ]
  },
  {
   "cell_type": "code",
   "execution_count": 93,
   "metadata": {},
   "outputs": [
    {
     "name": "stdout",
     "output_type": "stream",
     "text": [
      "Collecting package metadata (current_repodata.json): ...working... done\n",
      "Solving environment: ...working... done\n",
      "\n",
      "## Package Plan ##\n",
      "\n",
      "  environment location: C:\\Users\\kpurs\\anaconda3\n",
      "\n",
      "  added / updated specs:\n",
      "    - folium=0.5.0\n",
      "\n",
      "\n",
      "The following packages will be downloaded:\n",
      "\n",
      "    package                    |            build\n",
      "    ---------------------------|-----------------\n",
      "    conda-4.8.5                |   py38h9bdc248_3         3.1 MB  conda-forge\n",
      "    ------------------------------------------------------------\n",
      "                                           Total:         3.1 MB\n",
      "\n",
      "The following packages will be UPDATED:\n",
      "\n",
      "  conda                                4.8.5-py38h9bdc248_2 --> 4.8.5-py38h9bdc248_3\n",
      "\n",
      "\n",
      "\n",
      "Downloading and Extracting Packages\n",
      "\n",
      "conda-4.8.5          | 3.1 MB    |            |   0% \n",
      "conda-4.8.5          | 3.1 MB    |            |   1% \n",
      "conda-4.8.5          | 3.1 MB    | 8          |   9% \n",
      "conda-4.8.5          | 3.1 MB    | ##         |  20% \n",
      "conda-4.8.5          | 3.1 MB    | #####3     |  53% \n",
      "conda-4.8.5          | 3.1 MB    | #######2   |  72% \n",
      "conda-4.8.5          | 3.1 MB    | ########## | 100% \n",
      "conda-4.8.5          | 3.1 MB    | ########## | 100% \n",
      "Preparing transaction: ...working... done\n",
      "Verifying transaction: ...working... done\n",
      "Executing transaction: ...working... done\n",
      "Folium installed and imported!\n"
     ]
    }
   ],
   "source": [
    "!conda install -c conda-forge folium=0.5.0 --yes\n",
    "import folium\n",
    "\n",
    "print('Folium installed and imported!')"
   ]
  },
  {
   "cell_type": "code",
   "execution_count": 94,
   "metadata": {},
   "outputs": [
    {
     "data": {
      "text/html": [
       "<div style=\"width:100%;\"><div style=\"position:relative;width:100%;height:0;padding-bottom:60%;\"><span style=\"color:#565656\">Make this Notebook Trusted to load map: File -> Trust Notebook</span><iframe src=\"about:blank\" style=\"position:absolute;width:100%;height:100%;left:0;top:0;border:none !important;\" data-html=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 onload=\"this.contentDocument.open();this.contentDocument.write(atob(this.getAttribute('data-html')));this.contentDocument.close();\" allowfullscreen webkitallowfullscreen mozallowfullscreen></iframe></div></div>"
      ],
      "text/plain": [
       "<folium.folium.Map at 0x29a986043a0>"
      ]
     },
     "execution_count": 94,
     "metadata": {},
     "output_type": "execute_result"
    }
   ],
   "source": [
    "seattle_map = folium.Map(location=[47.6000, -122.3100], zoom_start=12)\n",
    "for index, row in map_accident.iterrows():\n",
    "    folium.Marker(\n",
    "        location=[row['Y'],row['X']],\n",
    "        \n",
    "        #popup includes how many vehicles involved and date(M-D) time(HH-MM)\n",
    "        popup= str(row['VEHCOUNT']) + ' vehicle collision reported ' + str(row['INCDTTM'].month) + '-' + str(row['INCDTTM'].day) +' at ' + str(row['INCDTTM'].hour) + \":\" + str(row['INCDTTM'].minute),\n",
    "        \n",
    "        icon=folium.Icon(color='red',icon='info-sign')\n",
    "    ).add_to(seattle_map)\n",
    "    \n",
    "seattle_map"
   ]
  },
  {
   "cell_type": "markdown",
   "metadata": {},
   "source": [
    "## Use One Hot Encoding technique to convert categorical variables"
   ]
  },
  {
   "cell_type": "code",
   "execution_count": 95,
   "metadata": {},
   "outputs": [
    {
     "data": {
      "text/html": [
       "<div>\n",
       "<style scoped>\n",
       "    .dataframe tbody tr th:only-of-type {\n",
       "        vertical-align: middle;\n",
       "    }\n",
       "\n",
       "    .dataframe tbody tr th {\n",
       "        vertical-align: top;\n",
       "    }\n",
       "\n",
       "    .dataframe thead th {\n",
       "        text-align: right;\n",
       "    }\n",
       "</style>\n",
       "<table border=\"1\" class=\"dataframe\">\n",
       "  <thead>\n",
       "    <tr style=\"text-align: right;\">\n",
       "      <th></th>\n",
       "      <th>VEHCOUNT</th>\n",
       "      <th>Angles</th>\n",
       "      <th>Cycles</th>\n",
       "      <th>Head On</th>\n",
       "      <th>Left Turn</th>\n",
       "      <th>Other</th>\n",
       "      <th>Parked Car</th>\n",
       "      <th>Pedestrian</th>\n",
       "      <th>Rear Ended</th>\n",
       "      <th>Right Turn</th>\n",
       "      <th>...</th>\n",
       "      <th>Wet</th>\n",
       "      <th>Dark - No Street Lights</th>\n",
       "      <th>Dark - Street Lights Off</th>\n",
       "      <th>Dark - Street Lights On</th>\n",
       "      <th>Dark - Unknown Lighting</th>\n",
       "      <th>Dawn</th>\n",
       "      <th>Daylight</th>\n",
       "      <th>Dusk</th>\n",
       "      <th>Other</th>\n",
       "      <th>Unknown</th>\n",
       "    </tr>\n",
       "  </thead>\n",
       "  <tbody>\n",
       "    <tr>\n",
       "      <th>5</th>\n",
       "      <td>2</td>\n",
       "      <td>1</td>\n",
       "      <td>0</td>\n",
       "      <td>0</td>\n",
       "      <td>0</td>\n",
       "      <td>0</td>\n",
       "      <td>0</td>\n",
       "      <td>0</td>\n",
       "      <td>0</td>\n",
       "      <td>0</td>\n",
       "      <td>...</td>\n",
       "      <td>0</td>\n",
       "      <td>0</td>\n",
       "      <td>0</td>\n",
       "      <td>0</td>\n",
       "      <td>0</td>\n",
       "      <td>0</td>\n",
       "      <td>1</td>\n",
       "      <td>0</td>\n",
       "      <td>0</td>\n",
       "      <td>0</td>\n",
       "    </tr>\n",
       "    <tr>\n",
       "      <th>7</th>\n",
       "      <td>1</td>\n",
       "      <td>0</td>\n",
       "      <td>1</td>\n",
       "      <td>0</td>\n",
       "      <td>0</td>\n",
       "      <td>0</td>\n",
       "      <td>0</td>\n",
       "      <td>0</td>\n",
       "      <td>0</td>\n",
       "      <td>0</td>\n",
       "      <td>...</td>\n",
       "      <td>0</td>\n",
       "      <td>0</td>\n",
       "      <td>0</td>\n",
       "      <td>0</td>\n",
       "      <td>0</td>\n",
       "      <td>0</td>\n",
       "      <td>1</td>\n",
       "      <td>0</td>\n",
       "      <td>0</td>\n",
       "      <td>0</td>\n",
       "    </tr>\n",
       "    <tr>\n",
       "      <th>18</th>\n",
       "      <td>3</td>\n",
       "      <td>0</td>\n",
       "      <td>0</td>\n",
       "      <td>0</td>\n",
       "      <td>0</td>\n",
       "      <td>0</td>\n",
       "      <td>0</td>\n",
       "      <td>0</td>\n",
       "      <td>1</td>\n",
       "      <td>0</td>\n",
       "      <td>...</td>\n",
       "      <td>0</td>\n",
       "      <td>0</td>\n",
       "      <td>0</td>\n",
       "      <td>0</td>\n",
       "      <td>0</td>\n",
       "      <td>0</td>\n",
       "      <td>1</td>\n",
       "      <td>0</td>\n",
       "      <td>0</td>\n",
       "      <td>0</td>\n",
       "    </tr>\n",
       "    <tr>\n",
       "      <th>25</th>\n",
       "      <td>1</td>\n",
       "      <td>0</td>\n",
       "      <td>1</td>\n",
       "      <td>0</td>\n",
       "      <td>0</td>\n",
       "      <td>0</td>\n",
       "      <td>0</td>\n",
       "      <td>0</td>\n",
       "      <td>0</td>\n",
       "      <td>0</td>\n",
       "      <td>...</td>\n",
       "      <td>0</td>\n",
       "      <td>0</td>\n",
       "      <td>0</td>\n",
       "      <td>0</td>\n",
       "      <td>0</td>\n",
       "      <td>0</td>\n",
       "      <td>1</td>\n",
       "      <td>0</td>\n",
       "      <td>0</td>\n",
       "      <td>0</td>\n",
       "    </tr>\n",
       "    <tr>\n",
       "      <th>35</th>\n",
       "      <td>2</td>\n",
       "      <td>0</td>\n",
       "      <td>0</td>\n",
       "      <td>0</td>\n",
       "      <td>0</td>\n",
       "      <td>0</td>\n",
       "      <td>1</td>\n",
       "      <td>0</td>\n",
       "      <td>0</td>\n",
       "      <td>0</td>\n",
       "      <td>...</td>\n",
       "      <td>1</td>\n",
       "      <td>0</td>\n",
       "      <td>0</td>\n",
       "      <td>0</td>\n",
       "      <td>0</td>\n",
       "      <td>0</td>\n",
       "      <td>1</td>\n",
       "      <td>0</td>\n",
       "      <td>0</td>\n",
       "      <td>0</td>\n",
       "    </tr>\n",
       "  </tbody>\n",
       "</table>\n",
       "<p>5 rows × 40 columns</p>\n",
       "</div>"
      ],
      "text/plain": [
       "    VEHCOUNT  Angles  Cycles  Head On  Left Turn  Other  Parked Car  \\\n",
       "5          2       1       0        0          0      0           0   \n",
       "7          1       0       1        0          0      0           0   \n",
       "18         3       0       0        0          0      0           0   \n",
       "25         1       0       1        0          0      0           0   \n",
       "35         2       0       0        0          0      0           1   \n",
       "\n",
       "    Pedestrian  Rear Ended  Right Turn  ...  Wet  Dark - No Street Lights  \\\n",
       "5            0           0           0  ...    0                        0   \n",
       "7            0           0           0  ...    0                        0   \n",
       "18           0           1           0  ...    0                        0   \n",
       "25           0           0           0  ...    0                        0   \n",
       "35           0           0           0  ...    1                        0   \n",
       "\n",
       "    Dark - Street Lights Off  Dark - Street Lights On  \\\n",
       "5                          0                        0   \n",
       "7                          0                        0   \n",
       "18                         0                        0   \n",
       "25                         0                        0   \n",
       "35                         0                        0   \n",
       "\n",
       "    Dark - Unknown Lighting  Dawn  Daylight  Dusk  Other  Unknown  \n",
       "5                         0     0         1     0      0        0  \n",
       "7                         0     0         1     0      0        0  \n",
       "18                        0     0         1     0      0        0  \n",
       "25                        0     0         1     0      0        0  \n",
       "35                        0     0         1     0      0        0  \n",
       "\n",
       "[5 rows x 40 columns]"
      ]
     },
     "execution_count": 95,
     "metadata": {},
     "output_type": "execute_result"
    }
   ],
   "source": [
    "#unchanged columns\n",
    "Feature = feature_reduced_df[['VEHCOUNT']]\n",
    "\n",
    "#encode categorical values and append to dataframe\n",
    "Feature = pd.concat([Feature,pd.get_dummies(feature_reduced_df['COLLISIONTYPE'])], axis=1)\n",
    "Feature = pd.concat([Feature,pd.get_dummies(feature_reduced_df['WEATHER'])], axis=1)\n",
    "Feature = pd.concat([Feature,pd.get_dummies(feature_reduced_df['ROADCOND'])], axis=1)\n",
    "Feature = pd.concat([Feature,pd.get_dummies(feature_reduced_df['LIGHTCOND'])], axis=1)\n",
    "\n",
    "Feature.head()"
   ]
  },
  {
   "cell_type": "code",
   "execution_count": 96,
   "metadata": {},
   "outputs": [
    {
     "data": {
      "text/plain": [
       "(9861, 40)"
      ]
     },
     "execution_count": 96,
     "metadata": {},
     "output_type": "execute_result"
    }
   ],
   "source": [
    "Feature.shape"
   ]
  },
  {
   "cell_type": "code",
   "execution_count": 97,
   "metadata": {},
   "outputs": [
    {
     "data": {
      "text/html": [
       "<div>\n",
       "<style scoped>\n",
       "    .dataframe tbody tr th:only-of-type {\n",
       "        vertical-align: middle;\n",
       "    }\n",
       "\n",
       "    .dataframe tbody tr th {\n",
       "        vertical-align: top;\n",
       "    }\n",
       "\n",
       "    .dataframe thead th {\n",
       "        text-align: right;\n",
       "    }\n",
       "</style>\n",
       "<table border=\"1\" class=\"dataframe\">\n",
       "  <thead>\n",
       "    <tr style=\"text-align: right;\">\n",
       "      <th></th>\n",
       "      <th>VEHCOUNT</th>\n",
       "      <th>Angles</th>\n",
       "      <th>Cycles</th>\n",
       "      <th>Head On</th>\n",
       "      <th>Left Turn</th>\n",
       "      <th>Other</th>\n",
       "      <th>Parked Car</th>\n",
       "      <th>Pedestrian</th>\n",
       "      <th>Rear Ended</th>\n",
       "      <th>Right Turn</th>\n",
       "      <th>...</th>\n",
       "      <th>Wet</th>\n",
       "      <th>Dark - No Street Lights</th>\n",
       "      <th>Dark - Street Lights Off</th>\n",
       "      <th>Dark - Street Lights On</th>\n",
       "      <th>Dark - Unknown Lighting</th>\n",
       "      <th>Dawn</th>\n",
       "      <th>Daylight</th>\n",
       "      <th>Dusk</th>\n",
       "      <th>Other</th>\n",
       "      <th>Unknown</th>\n",
       "    </tr>\n",
       "  </thead>\n",
       "  <tbody>\n",
       "    <tr>\n",
       "      <th>5</th>\n",
       "      <td>2</td>\n",
       "      <td>1</td>\n",
       "      <td>0</td>\n",
       "      <td>0</td>\n",
       "      <td>0</td>\n",
       "      <td>0</td>\n",
       "      <td>0</td>\n",
       "      <td>0</td>\n",
       "      <td>0</td>\n",
       "      <td>0</td>\n",
       "      <td>...</td>\n",
       "      <td>0</td>\n",
       "      <td>0</td>\n",
       "      <td>0</td>\n",
       "      <td>0</td>\n",
       "      <td>0</td>\n",
       "      <td>0</td>\n",
       "      <td>1</td>\n",
       "      <td>0</td>\n",
       "      <td>0</td>\n",
       "      <td>0</td>\n",
       "    </tr>\n",
       "    <tr>\n",
       "      <th>7</th>\n",
       "      <td>1</td>\n",
       "      <td>0</td>\n",
       "      <td>1</td>\n",
       "      <td>0</td>\n",
       "      <td>0</td>\n",
       "      <td>0</td>\n",
       "      <td>0</td>\n",
       "      <td>0</td>\n",
       "      <td>0</td>\n",
       "      <td>0</td>\n",
       "      <td>...</td>\n",
       "      <td>0</td>\n",
       "      <td>0</td>\n",
       "      <td>0</td>\n",
       "      <td>0</td>\n",
       "      <td>0</td>\n",
       "      <td>0</td>\n",
       "      <td>1</td>\n",
       "      <td>0</td>\n",
       "      <td>0</td>\n",
       "      <td>0</td>\n",
       "    </tr>\n",
       "    <tr>\n",
       "      <th>18</th>\n",
       "      <td>3</td>\n",
       "      <td>0</td>\n",
       "      <td>0</td>\n",
       "      <td>0</td>\n",
       "      <td>0</td>\n",
       "      <td>0</td>\n",
       "      <td>0</td>\n",
       "      <td>0</td>\n",
       "      <td>1</td>\n",
       "      <td>0</td>\n",
       "      <td>...</td>\n",
       "      <td>0</td>\n",
       "      <td>0</td>\n",
       "      <td>0</td>\n",
       "      <td>0</td>\n",
       "      <td>0</td>\n",
       "      <td>0</td>\n",
       "      <td>1</td>\n",
       "      <td>0</td>\n",
       "      <td>0</td>\n",
       "      <td>0</td>\n",
       "    </tr>\n",
       "    <tr>\n",
       "      <th>25</th>\n",
       "      <td>1</td>\n",
       "      <td>0</td>\n",
       "      <td>1</td>\n",
       "      <td>0</td>\n",
       "      <td>0</td>\n",
       "      <td>0</td>\n",
       "      <td>0</td>\n",
       "      <td>0</td>\n",
       "      <td>0</td>\n",
       "      <td>0</td>\n",
       "      <td>...</td>\n",
       "      <td>0</td>\n",
       "      <td>0</td>\n",
       "      <td>0</td>\n",
       "      <td>0</td>\n",
       "      <td>0</td>\n",
       "      <td>0</td>\n",
       "      <td>1</td>\n",
       "      <td>0</td>\n",
       "      <td>0</td>\n",
       "      <td>0</td>\n",
       "    </tr>\n",
       "    <tr>\n",
       "      <th>35</th>\n",
       "      <td>2</td>\n",
       "      <td>0</td>\n",
       "      <td>0</td>\n",
       "      <td>0</td>\n",
       "      <td>0</td>\n",
       "      <td>0</td>\n",
       "      <td>1</td>\n",
       "      <td>0</td>\n",
       "      <td>0</td>\n",
       "      <td>0</td>\n",
       "      <td>...</td>\n",
       "      <td>1</td>\n",
       "      <td>0</td>\n",
       "      <td>0</td>\n",
       "      <td>0</td>\n",
       "      <td>0</td>\n",
       "      <td>0</td>\n",
       "      <td>1</td>\n",
       "      <td>0</td>\n",
       "      <td>0</td>\n",
       "      <td>0</td>\n",
       "    </tr>\n",
       "  </tbody>\n",
       "</table>\n",
       "<p>5 rows × 40 columns</p>\n",
       "</div>"
      ],
      "text/plain": [
       "    VEHCOUNT  Angles  Cycles  Head On  Left Turn  Other  Parked Car  \\\n",
       "5          2       1       0        0          0      0           0   \n",
       "7          1       0       1        0          0      0           0   \n",
       "18         3       0       0        0          0      0           0   \n",
       "25         1       0       1        0          0      0           0   \n",
       "35         2       0       0        0          0      0           1   \n",
       "\n",
       "    Pedestrian  Rear Ended  Right Turn  ...  Wet  Dark - No Street Lights  \\\n",
       "5            0           0           0  ...    0                        0   \n",
       "7            0           0           0  ...    0                        0   \n",
       "18           0           1           0  ...    0                        0   \n",
       "25           0           0           0  ...    0                        0   \n",
       "35           0           0           0  ...    1                        0   \n",
       "\n",
       "    Dark - Street Lights Off  Dark - Street Lights On  \\\n",
       "5                          0                        0   \n",
       "7                          0                        0   \n",
       "18                         0                        0   \n",
       "25                         0                        0   \n",
       "35                         0                        0   \n",
       "\n",
       "    Dark - Unknown Lighting  Dawn  Daylight  Dusk  Other  Unknown  \n",
       "5                         0     0         1     0      0        0  \n",
       "7                         0     0         1     0      0        0  \n",
       "18                        0     0         1     0      0        0  \n",
       "25                        0     0         1     0      0        0  \n",
       "35                        0     0         1     0      0        0  \n",
       "\n",
       "[5 rows x 40 columns]"
      ]
     },
     "execution_count": 97,
     "metadata": {},
     "output_type": "execute_result"
    }
   ],
   "source": [
    "X = Feature\n",
    "X[0:5]"
   ]
  },
  {
   "cell_type": "code",
   "execution_count": 98,
   "metadata": {},
   "outputs": [
    {
     "data": {
      "text/plain": [
       "array([1, 2, 2, 2, 1], dtype=int64)"
      ]
     },
     "execution_count": 98,
     "metadata": {},
     "output_type": "execute_result"
    }
   ],
   "source": [
    "y = feature_reduced_df['SEVERITYCODE'].values\n",
    "y[0:5]"
   ]
  },
  {
   "cell_type": "markdown",
   "metadata": {},
   "source": [
    "## Normaize Data"
   ]
  },
  {
   "cell_type": "code",
   "execution_count": 99,
   "metadata": {},
   "outputs": [
    {
     "data": {
      "text/plain": [
       "array([[ 0.07538525,  1.94123034, -0.19965171, -0.10718376, -0.2867042 ,\n",
       "        -0.35488307, -0.50250231, -0.22964829, -0.45120774, -0.12000754,\n",
       "        -0.36530573, -0.03490556,  0.73750751, -0.0363327 , -0.07280971,\n",
       "        -0.42322845, -0.02252344, -0.43334291, -0.0142429 , -0.02467444,\n",
       "        -0.09915155, -0.15487911,  0.64813184, -0.09434599, -0.02014455,\n",
       "        -0.0363327 , -0.01007074, -0.09489152, -0.02014455, -0.17251639,\n",
       "        -0.57262725, -0.09379741, -0.07138852, -0.59277085, -0.03341783,\n",
       "        -0.12678402,  0.72982128, -0.18015919, -0.04031365, -0.15590586],\n",
       "       [-1.60645625, -0.51513722,  5.00872255, -0.10718376, -0.2867042 ,\n",
       "        -0.35488307, -0.50250231, -0.22964829, -0.45120774, -0.12000754,\n",
       "        -0.36530573, -0.03490556,  0.73750751, -0.0363327 , -0.07280971,\n",
       "        -0.42322845, -0.02252344, -0.43334291, -0.0142429 , -0.02467444,\n",
       "        -0.09915155, -0.15487911,  0.64813184, -0.09434599, -0.02014455,\n",
       "        -0.0363327 , -0.01007074, -0.09489152, -0.02014455, -0.17251639,\n",
       "        -0.57262725, -0.09379741, -0.07138852, -0.59277085, -0.03341783,\n",
       "        -0.12678402,  0.72982128, -0.18015919, -0.04031365, -0.15590586],\n",
       "       [ 1.75722675, -0.51513722, -0.19965171, -0.10718376, -0.2867042 ,\n",
       "        -0.35488307, -0.50250231, -0.22964829,  2.21627401, -0.12000754,\n",
       "        -0.36530573, -0.03490556,  0.73750751, -0.0363327 , -0.07280971,\n",
       "        -0.42322845, -0.02252344, -0.43334291, -0.0142429 , -0.02467444,\n",
       "        -0.09915155, -0.15487911,  0.64813184, -0.09434599, -0.02014455,\n",
       "        -0.0363327 , -0.01007074, -0.09489152, -0.02014455, -0.17251639,\n",
       "        -0.57262725, -0.09379741, -0.07138852, -0.59277085, -0.03341783,\n",
       "        -0.12678402,  0.72982128, -0.18015919, -0.04031365, -0.15590586],\n",
       "       [-1.60645625, -0.51513722,  5.00872255, -0.10718376, -0.2867042 ,\n",
       "        -0.35488307, -0.50250231, -0.22964829, -0.45120774, -0.12000754,\n",
       "        -0.36530573, -0.03490556,  0.73750751, -0.0363327 , -0.07280971,\n",
       "        -0.42322845, -0.02252344, -0.43334291, -0.0142429 , -0.02467444,\n",
       "        -0.09915155, -0.15487911,  0.64813184, -0.09434599, -0.02014455,\n",
       "        -0.0363327 , -0.01007074, -0.09489152, -0.02014455, -0.17251639,\n",
       "        -0.57262725, -0.09379741, -0.07138852, -0.59277085, -0.03341783,\n",
       "        -0.12678402,  0.72982128, -0.18015919, -0.04031365, -0.15590586],\n",
       "       [ 0.07538525, -0.51513722, -0.19965171, -0.10718376, -0.2867042 ,\n",
       "        -0.35488307,  1.99004059, -0.22964829, -0.45120774, -0.12000754,\n",
       "        -0.36530573, -0.03490556, -1.35591839, -0.0363327 , -0.07280971,\n",
       "        -0.42322845, -0.02252344,  2.30764132, -0.0142429 , -0.02467444,\n",
       "        -0.09915155, -0.15487911, -1.54289596, -0.09434599, -0.02014455,\n",
       "        -0.0363327 , -0.01007074, -0.09489152, -0.02014455, -0.17251639,\n",
       "         1.74633673, -0.09379741, -0.07138852, -0.59277085, -0.03341783,\n",
       "        -0.12678402,  0.72982128, -0.18015919, -0.04031365, -0.15590586]])"
      ]
     },
     "execution_count": 99,
     "metadata": {},
     "output_type": "execute_result"
    }
   ],
   "source": [
    "X= preprocessing.StandardScaler().fit(X).transform(X)\n",
    "X[0:5]"
   ]
  },
  {
   "cell_type": "markdown",
   "metadata": {},
   "source": [
    "## Setup TRAIN TEST split"
   ]
  },
  {
   "cell_type": "code",
   "execution_count": 100,
   "metadata": {},
   "outputs": [],
   "source": [
    "from sklearn.model_selection import train_test_split"
   ]
  },
  {
   "cell_type": "code",
   "execution_count": 101,
   "metadata": {},
   "outputs": [
    {
     "name": "stdout",
     "output_type": "stream",
     "text": [
      "Train set: (7888, 40) (7888,)\n",
      "Test set: (1973, 40) (1973,)\n"
     ]
    }
   ],
   "source": [
    "#Create the TRAIN (80%) TEST(20%) split. X is the feature set. y is the labels for loan status\n",
    "\n",
    "X_train, X_test, y_train, y_test = train_test_split( X, y, test_size=0.2, random_state=4)\n",
    "print ('Train set:', X_train.shape,  y_train.shape)\n",
    "print ('Test set:', X_test.shape,  y_test.shape)"
   ]
  },
  {
   "cell_type": "markdown",
   "metadata": {},
   "source": [
    "## Model Accuracy imports"
   ]
  },
  {
   "cell_type": "code",
   "execution_count": 102,
   "metadata": {},
   "outputs": [],
   "source": [
    "from sklearn import metrics\n",
    "from sklearn.metrics import f1_score\n",
    "#from sklearn.metrics import jaccard_similarity_score\n",
    "from sklearn.metrics import log_loss"
   ]
  },
  {
   "cell_type": "markdown",
   "metadata": {},
   "source": [
    "## KNN Model"
   ]
  },
  {
   "cell_type": "code",
   "execution_count": 103,
   "metadata": {},
   "outputs": [],
   "source": [
    "#Get the imports\n",
    "from sklearn.neighbors import KNeighborsClassifier\n",
    "%matplotlib inline\n",
    "import matplotlib.pyplot as plt"
   ]
  },
  {
   "cell_type": "code",
   "execution_count": 104,
   "metadata": {},
   "outputs": [
    {
     "data": {
      "text/plain": [
       "array([0.66041561, 0.71160669, 0.67714141, 0.70400405, 0.70349721,\n",
       "       0.72883933, 0.7212367 , 0.73188039, 0.70248353, 0.70552458,\n",
       "       0.700963  , 0.70299037, 0.69994932, 0.70299037, 0.70146984,\n",
       "       0.72326406, 0.72630512, 0.7273188 , 0.72630512])"
      ]
     },
     "execution_count": 104,
     "metadata": {},
     "output_type": "execute_result"
    }
   ],
   "source": [
    "#try a range of k values to find best accuracy.\n",
    "\n",
    "Ks = 20\n",
    "mean_acc = np.zeros((Ks-1))\n",
    "std_acc = np.zeros((Ks-1))\n",
    "for n in range(1,Ks):\n",
    "    \n",
    "    #Train Model and Predict  \n",
    "    neigh = KNeighborsClassifier(n_neighbors = n).fit(X_train,y_train)\n",
    "    yhat=neigh.predict(X_test)\n",
    "    \n",
    "    #accuracy formula\n",
    "    mean_acc[n-1] = metrics.accuracy_score(y_test, yhat)\n",
    "\n",
    "    #calculate std\n",
    "    std_acc[n-1]=np.std(yhat==y_test)/np.sqrt(yhat.shape[0])\n",
    "\n",
    "mean_acc"
   ]
  },
  {
   "cell_type": "code",
   "execution_count": 105,
   "metadata": {},
   "outputs": [
    {
     "data": {
      "image/png": "[encoded data removed]",
      "text/plain": [
       "<Figure size 432x288 with 1 Axes>"
      ]
     },
     "metadata": {
      "needs_background": "light"
     },
     "output_type": "display_data"
    }
   ],
   "source": [
    "#Plot the k vs accuracy from previous step\n",
    "plt.plot(range(1,Ks),mean_acc,'g')\n",
    "plt.fill_between(range(1,Ks),mean_acc - 1 * std_acc,mean_acc + 1 * std_acc, alpha=0.10)\n",
    "plt.legend(('Accuracy ', '+/- 3xstd'))\n",
    "plt.ylabel('Accuracy ')\n",
    "plt.xlabel('Number of Neighbors (K)')\n",
    "plt.tight_layout()\n",
    "plt.show()"
   ]
  },
  {
   "cell_type": "code",
   "execution_count": 106,
   "metadata": {},
   "outputs": [
    {
     "name": "stdout",
     "output_type": "stream",
     "text": [
      "KNN Model best accuracy score is 0.7318803852002027  when k = 8\n",
      "KNN model F1-score is 0.7008743808776231\n"
     ]
    }
   ],
   "source": [
    "#Jaccard score\n",
    "print( \"KNN Model best accuracy score is\", mean_acc.max(), \" when k =\", mean_acc.argmax()+1) \n",
    "\n",
    "#F1-score\n",
    "y_pred = neigh.predict(X_test)\n",
    "print(\"KNN model F1-score is\", f1_score(y_test, y_pred, average='weighted'))"
   ]
  },
  {
   "cell_type": "markdown",
   "metadata": {},
   "source": [
    "## Decision Tree"
   ]
  },
  {
   "cell_type": "code",
   "execution_count": 107,
   "metadata": {},
   "outputs": [],
   "source": [
    "from sklearn.tree import DecisionTreeClassifier"
   ]
  },
  {
   "cell_type": "code",
   "execution_count": 108,
   "metadata": {},
   "outputs": [],
   "source": [
    "accident_DT = DecisionTreeClassifier(criterion=\"entropy\", max_depth = 4)\n",
    "accident_DT.fit(X_train,y_train)\n",
    "accident_DT_yhat = accident_DT.predict(X_test)"
   ]
  },
  {
   "cell_type": "code",
   "execution_count": 109,
   "metadata": {},
   "outputs": [
    {
     "name": "stdout",
     "output_type": "stream",
     "text": [
      "Decision Tree accuracy is  0.7313735428281805\n",
      "Decision Tree F1-score is 0.6760143772584613\n"
     ]
    }
   ],
   "source": [
    "#accuracy\n",
    "print(\"Decision Tree accuracy is \", metrics.accuracy_score(y_test, accident_DT_yhat))\n",
    "\n",
    "#F1-score\n",
    "print(\"Decision Tree F1-score is\", f1_score(y_test, accident_DT_yhat, average='weighted'))"
   ]
  },
  {
   "cell_type": "markdown",
   "metadata": {},
   "source": [
    "## Support Vector Machine"
   ]
  },
  {
   "cell_type": "code",
   "execution_count": 110,
   "metadata": {},
   "outputs": [],
   "source": [
    "from sklearn import svm"
   ]
  },
  {
   "cell_type": "code",
   "execution_count": 111,
   "metadata": {},
   "outputs": [],
   "source": [
    "clf = svm.SVC(kernel='rbf')\n",
    "clf.fit(X_train, y_train)\n",
    "SVM_yhat = clf.predict(X_test)"
   ]
  },
  {
   "cell_type": "code",
   "execution_count": 112,
   "metadata": {},
   "outputs": [
    {
     "name": "stdout",
     "output_type": "stream",
     "text": [
      "The SVM accuracy is 0.7318803852002027\n",
      "The SVM F1-score is 0.6872876689073995\n"
     ]
    }
   ],
   "source": [
    "#Accuracy\n",
    "print(\"The SVM accuracy is\",metrics.accuracy_score(y_test, SVM_yhat))\n",
    "\n",
    "#F1-score\n",
    "print(\"The SVM F1-score is\", f1_score(y_test, SVM_yhat, average='weighted'))"
   ]
  },
  {
   "cell_type": "markdown",
   "metadata": {},
   "source": [
    "## Logistic Regression"
   ]
  },
  {
   "cell_type": "code",
   "execution_count": 113,
   "metadata": {},
   "outputs": [],
   "source": [
    "from sklearn.linear_model import LogisticRegression"
   ]
  },
  {
   "cell_type": "code",
   "execution_count": 114,
   "metadata": {},
   "outputs": [],
   "source": [
    "LR = LogisticRegression(C=0.01, solver='liblinear').fit(X_train,y_train)"
   ]
  },
  {
   "cell_type": "code",
   "execution_count": 115,
   "metadata": {},
   "outputs": [],
   "source": [
    "#calculate the needed yhat values\n",
    "LR_yhat = LR.predict(X_test)\n",
    "yhat_prob = LR.predict_proba(X_test)"
   ]
  },
  {
   "cell_type": "code",
   "execution_count": 116,
   "metadata": {},
   "outputs": [
    {
     "name": "stdout",
     "output_type": "stream",
     "text": [
      "The Logistic Regression accuracy is 0.7298530157121136\n",
      "The Logistic Regression F1-score is 0.6804398074564196\n",
      "Logistic Regression LogLoss is 0.52\n"
     ]
    }
   ],
   "source": [
    "#Accuracy\n",
    "print(\"The Logistic Regression accuracy is\",metrics.accuracy_score(y_test, LR_yhat))\n",
    "\n",
    "#F1-score\n",
    "print(\"The Logistic Regression F1-score is\", f1_score(y_test, LR_yhat, average='weighted'))\n",
    "\n",
    "#Log loss\n",
    "print (\"Logistic Regression LogLoss is %.2f\" % log_loss(y_test, yhat_prob))"
   ]
  },
  {
   "cell_type": "markdown",
   "metadata": {},
   "source": [
    "## Plot Weather Trend"
   ]
  },
  {
   "cell_type": "code",
   "execution_count": 38,
   "metadata": {},
   "outputs": [
    {
     "name": "stdout",
     "output_type": "stream",
     "text": [
      "Matplotlib version:  3.2.2\n",
      "['Solarize_Light2', '_classic_test_patch', 'bmh', 'classic', 'dark_background', 'fast', 'fivethirtyeight', 'ggplot', 'grayscale', 'seaborn', 'seaborn-bright', 'seaborn-colorblind', 'seaborn-dark', 'seaborn-dark-palette', 'seaborn-darkgrid', 'seaborn-deep', 'seaborn-muted', 'seaborn-notebook', 'seaborn-paper', 'seaborn-pastel', 'seaborn-poster', 'seaborn-talk', 'seaborn-ticks', 'seaborn-white', 'seaborn-whitegrid', 'tableau-colorblind10']\n"
     ]
    }
   ],
   "source": [
    "#setup imports\n",
    "%matplotlib inline \n",
    "import matplotlib as mpl\n",
    "import matplotlib.pyplot as plt\n",
    "print ('Matplotlib version: ', mpl.__version__) # >= 2.0.0\n",
    "print(plt.style.available)\n",
    "mpl.style.use(['ggplot']) # optional: for ggplot-like style"
   ]
  },
  {
   "cell_type": "code",
   "execution_count": 39,
   "metadata": {},
   "outputs": [],
   "source": [
    "#Common df to start\n",
    "\n",
    "#setup a working df to start\n",
    "work_df = feature_df\n",
    "\n",
    "#add a year column based on INCDTTM\n",
    "work_df.insert(0, 'Year', work_df['INCDTTM'].dt.year)"
   ]
  },
  {
   "cell_type": "code",
   "execution_count": 40,
   "metadata": {},
   "outputs": [
    {
     "data": {
      "image/png": "[encoded data removed]",
      "text/plain": [
       "<Figure size 1008x576 with 1 Axes>"
      ]
     },
     "metadata": {},
     "output_type": "display_data"
    }
   ],
   "source": [
    "#PREPARE dataframe to plot\n",
    "\n",
    "#Calculate totals for year-weather-combo\n",
    "weather_df = work_df.groupby(['Year','WEATHER']).size().reset_index(name='Count')\n",
    "\n",
    "#add the weather options as columns and move the groupby totals to corresponding column\n",
    "weather_df['Clear'] = np.where(weather_df['WEATHER'].str.contains('Clear'),weather_df['Count'], 0)\n",
    "weather_df['Raining'] = np.where(weather_df['WEATHER'].str.contains('Raining'),weather_df['Count'], 0)\n",
    "weather_df['Overcast'] = np.where(weather_df['WEATHER'].str.contains('Overcast'),weather_df['Count'], 0)\n",
    "weather_df['Unknown'] = np.where(weather_df['WEATHER'].str.contains('Unknown'),weather_df['Count'], 0)\n",
    "weather_df['Showing'] = np.where(weather_df['WEATHER'].str.contains('Snowing'),weather_df['Count'], 0)\n",
    "weather_df['Other'] = np.where(weather_df['WEATHER'].str.contains('Other'),weather_df['Count'], 0)\n",
    "weather_df['Fog/Smog/Smoke'] = np.where(weather_df['WEATHER'].str.contains('Fog'),weather_df['Count'], 0)\n",
    "weather_df['Sleet/Hail/Freezing Rain'] = np.where(weather_df['WEATHER'].str.contains('Sleet'),weather_df['Count'], 0)\n",
    "weather_df['Blowing Sand/Dirt'] = np.where(weather_df['WEATHER'].str.contains('Blowing'),weather_df['Count'], 0)\n",
    "weather_df['Severe Crosswind'] = np.where(weather_df['WEATHER'].str.contains('Crosswind'),weather_df['Count'], 0)\n",
    "weather_df['Partly Cloudy'] = np.where(weather_df['WEATHER'].str.contains('Cloudy'),weather_df['Count'], 0)\n",
    "\n",
    "#drop unwanted columns\n",
    "weather_df.drop(['WEATHER','Count'],axis=1,inplace=True)\n",
    "\n",
    "#MERGE rows so that there is one per year\n",
    "line_weather_df = weather_df.groupby(['Year']).sum()[['Clear','Raining','Overcast','Unknown','Showing','Other','Fog/Smog/Smoke',\n",
    "                                                      'Sleet/Hail/Freezing Rain','Blowing Sand/Dirt','Severe Crosswind','Partly Cloudy']]\n",
    "\n",
    "#PLOT WEATHER\n",
    "line_weather_df.index = line_weather_df.index.map(int)\n",
    "line_weather_df.plot(kind='line', figsize=(14, 8))\n",
    "plt.title('Accident Trend by Weather')\n",
    "plt.ylabel('Number of Accidents')\n",
    "plt.xlabel('Year')\n",
    "plt.show()\n"
   ]
  },
  {
   "cell_type": "markdown",
   "metadata": {},
   "source": [
    "## Plot Road Condition Trend"
   ]
  },
  {
   "cell_type": "code",
   "execution_count": 41,
   "metadata": {},
   "outputs": [
    {
     "data": {
      "image/png": "[encoded data removed]",
      "text/plain": [
       "<Figure size 1008x576 with 1 Axes>"
      ]
     },
     "metadata": {},
     "output_type": "display_data"
    }
   ],
   "source": [
    "#PREPARE dataframe to plot\n",
    "\n",
    "#Calculate totals for year-weather-combo\n",
    "roadcond_df = work_df.groupby(['Year','ROADCOND']).size().reset_index(name='Count')\n",
    "\n",
    "#add the road condition options as columns and move the groupby totals to corresponding column\n",
    "roadcond_df['Dry'] = np.where(roadcond_df['ROADCOND'].str.contains('Dry'),roadcond_df['Count'], 0)\n",
    "roadcond_df['Wet'] = np.where(roadcond_df['ROADCOND'].str.contains('Wet'),roadcond_df['Count'], 0)\n",
    "roadcond_df['Unknown'] = np.where(roadcond_df['ROADCOND'].str.contains('Unknown'),roadcond_df['Count'], 0)\n",
    "roadcond_df['Ice'] = np.where(roadcond_df['ROADCOND'].str.contains('Ice'),roadcond_df['Count'], 0)\n",
    "roadcond_df['Snow/Slush'] = np.where(roadcond_df['ROADCOND'].str.contains('Slush'),roadcond_df['Count'], 0)\n",
    "roadcond_df['Other'] = np.where(roadcond_df['ROADCOND'].str.contains('Other'),roadcond_df['Count'], 0)\n",
    "roadcond_df['Standing Water'] = np.where(roadcond_df['ROADCOND'].str.contains('Water'),roadcond_df['Count'], 0)\n",
    "roadcond_df['Sand/Mud/Dirt'] = np.where(roadcond_df['ROADCOND'].str.contains('Mud'),roadcond_df['Count'], 0)\n",
    "roadcond_df['Oil'] = np.where(roadcond_df['ROADCOND'].str.contains('Oil'),roadcond_df['Count'], 0)\n",
    "\n",
    "#drop unwanted columns\n",
    "roadcond_df.drop(['ROADCOND','Count'],axis=1,inplace=True)\n",
    "\n",
    "#MERGE rows so that there is one per year\n",
    "line_roadcond_df = roadcond_df.groupby(['Year']).sum()[['Dry','Wet','Unknown','Ice','Snow/Slush','Other','Standing Water','Sand/Mud/Dirt','Oil']]\n",
    "\n",
    "#PLOT WEATHER\n",
    "line_roadcond_df.index = line_roadcond_df.index.map(int)\n",
    "line_roadcond_df.plot(kind='line', figsize=(14, 8))\n",
    "plt.title('Accident Trend by Road Condition')\n",
    "plt.ylabel('Number of Accidents')\n",
    "plt.xlabel('Year')\n",
    "plt.show()\n"
   ]
  },
  {
   "cell_type": "markdown",
   "metadata": {},
   "source": [
    "## Plot Light Condition Trend"
   ]
  },
  {
   "cell_type": "code",
   "execution_count": 42,
   "metadata": {},
   "outputs": [
    {
     "data": {
      "image/png": "[encoded data removed]",
      "text/plain": [
       "<Figure size 1008x576 with 1 Axes>"
      ]
     },
     "metadata": {},
     "output_type": "display_data"
    }
   ],
   "source": [
    "#PREPARE dataframe to plot\n",
    "\n",
    "#Calculate totals for year-weather-combo\n",
    "lightcond_df = work_df.groupby(['Year','LIGHTCOND']).size().reset_index(name='Count')\n",
    "\n",
    "#add the road condition options as columns and move the groupby totals to corresponding column\n",
    "lightcond_df['Daylight'] = np.where(lightcond_df['LIGHTCOND'].str.contains('Daylight'),lightcond_df['Count'], 0)\n",
    "lightcond_df['Dark - Street Lights On'] = np.where(lightcond_df['LIGHTCOND'].str.contains('Dark - Street Lights On'),lightcond_df['Count'], 0)\n",
    "lightcond_df['Unknown'] = np.where(lightcond_df['LIGHTCOND'].str.contains('Unknown'),lightcond_df['Count'], 0)\n",
    "lightcond_df['Dusk'] = np.where(lightcond_df['LIGHTCOND'].str.contains('Dusk'),lightcond_df['Count'], 0)\n",
    "lightcond_df['Dawn'] = np.where(lightcond_df['LIGHTCOND'].str.contains('Dawn'),lightcond_df['Count'], 0)\n",
    "lightcond_df['Dark - No Street Lights'] = np.where(lightcond_df['LIGHTCOND'].str.contains('Dark - No Street Lights'),lightcond_df['Count'], 0)\n",
    "lightcond_df['Dark - Street Lights Off'] = np.where(lightcond_df['LIGHTCOND'].str.contains('Dark - Street Lights Off'),lightcond_df['Count'], 0)\n",
    "lightcond_df['Other'] = np.where(lightcond_df['LIGHTCOND'].str.contains('Other'),lightcond_df['Count'], 0)\n",
    "lightcond_df['Dark - Unknown Lighting'] = np.where(lightcond_df['LIGHTCOND'].str.contains('Dark - Unknown Lighting'),lightcond_df['Count'], 0)\n",
    "\n",
    "#drop unwanted columns\n",
    "lightcond_df.drop(['LIGHTCOND','Count'],axis=1,inplace=True)\n",
    "\n",
    "#MERGE rows so that there is one per year\n",
    "line_lightcond_df = lightcond_df.groupby(['Year']).sum()[['Daylight','Dark - Street Lights On','Unknown','Dusk',\n",
    "                                                          'Dawn','Dark - No Street Lights','Dark - Street Lights Off','Other','Dark - Unknown Lighting']]\n",
    "\n",
    "#PLOT WEATHER\n",
    "line_lightcond_df.index = line_lightcond_df.index.map(int)\n",
    "line_lightcond_df.plot(kind='line', figsize=(14, 8))\n",
    "plt.title('Accident Trend by Light Condition')\n",
    "plt.ylabel('Number of Accidents')\n",
    "plt.xlabel('Year')\n",
    "plt.show()"
   ]
  },
  {
   "cell_type": "markdown",
   "metadata": {},
   "source": [
    "## Plot Collision Type trend"
   ]
  },
  {
   "cell_type": "code",
   "execution_count": 46,
   "metadata": {},
   "outputs": [
    {
     "data": {
      "image/png": "[encoded data removed]",
      "text/plain": [
       "<Figure size 1008x576 with 1 Axes>"
      ]
     },
     "metadata": {},
     "output_type": "display_data"
    }
   ],
   "source": [
    "#PREPARE dataframe to plot\n",
    "\n",
    "#Calculate totals for year-weather-combo\n",
    "collisionType_df = work_df.groupby(['Year','COLLISIONTYPE']).size().reset_index(name='Count')\n",
    "\n",
    "#add the collision type options as columns and move the groupby totals to corresponding column\n",
    "collisionType_df['Parked Car'] = np.where(collisionType_df['COLLISIONTYPE'].str.contains('Parked Car'),collisionType_df['Count'], 0)\n",
    "collisionType_df['Angles'] = np.where(collisionType_df['COLLISIONTYPE'].str.contains('Angles'),collisionType_df['Count'], 0)\n",
    "collisionType_df['Rear Ended'] = np.where(collisionType_df['COLLISIONTYPE'].str.contains('Rear Ended'),collisionType_df['Count'], 0)\n",
    "collisionType_df['Other'] = np.where(collisionType_df['COLLISIONTYPE'].str.contains('Other'),collisionType_df['Count'], 0)\n",
    "collisionType_df['Sideswipe'] = np.where(collisionType_df['COLLISIONTYPE'].str.contains('Sideswipe'),collisionType_df['Count'], 0)\n",
    "collisionType_df['Left Turn'] = np.where(collisionType_df['COLLISIONTYPE'].str.contains('Left Turn'),collisionType_df['Count'], 0)\n",
    "collisionType_df['Pedestrian'] = np.where(collisionType_df['COLLISIONTYPE'].str.contains('Pedestrian'),collisionType_df['Count'], 0)\n",
    "collisionType_df['Cycles'] = np.where(collisionType_df['COLLISIONTYPE'].str.contains('Cycles'),collisionType_df['Count'], 0)\n",
    "collisionType_df['Right Turn'] = np.where(collisionType_df['COLLISIONTYPE'].str.contains('Right Turn'),collisionType_df['Count'], 0)\n",
    "collisionType_df['Head On'] = np.where(collisionType_df['COLLISIONTYPE'].str.contains('Head On'),collisionType_df['Count'], 0)\n",
    "\n",
    "\n",
    "#drop unwanted columns\n",
    "collisionType_df.drop(['COLLISIONTYPE','Count'],axis=1,inplace=True)\n",
    "\n",
    "#MERGE rows so that there is one per year\n",
    "line_collisionType_df = collisionType_df.groupby(['Year']).sum()[['Parked Car','Angles','Rear Ended','Other','Sideswipe',\n",
    "                                                                  'Left Turn','Pedestrian','Cycles','Right Turn','Head On']]\n",
    "\n",
    "#PLOT WEATHER\n",
    "line_collisionType_df.index = line_collisionType_df.index.map(int)\n",
    "line_collisionType_df.plot(kind='line', figsize=(14, 8))\n",
    "plt.title('Accident Trend by Collision Type')\n",
    "plt.ylabel('Number of Accidents')\n",
    "plt.xlabel('Year')\n",
    "plt.show()"
   ]
  },
  {
   "cell_type": "markdown",
   "metadata": {},
   "source": [
    "## Plot Accident Year-Hour trend"
   ]
  },
  {
   "cell_type": "code",
   "execution_count": 47,
   "metadata": {},
   "outputs": [
    {
     "name": "stdout",
     "output_type": "stream",
     "text": [
      "(183950, 10)\n"
     ]
    },
    {
     "data": {
      "text/html": [
       "<div>\n",
       "<style scoped>\n",
       "    .dataframe tbody tr th:only-of-type {\n",
       "        vertical-align: middle;\n",
       "    }\n",
       "\n",
       "    .dataframe tbody tr th {\n",
       "        vertical-align: top;\n",
       "    }\n",
       "\n",
       "    .dataframe thead th {\n",
       "        text-align: right;\n",
       "    }\n",
       "</style>\n",
       "<table border=\"1\" class=\"dataframe\">\n",
       "  <thead>\n",
       "    <tr style=\"text-align: right;\">\n",
       "      <th></th>\n",
       "      <th>Year</th>\n",
       "      <th>SEVERITYCODE</th>\n",
       "      <th>X</th>\n",
       "      <th>Y</th>\n",
       "      <th>VEHCOUNT</th>\n",
       "      <th>COLLISIONTYPE</th>\n",
       "      <th>WEATHER</th>\n",
       "      <th>ROADCOND</th>\n",
       "      <th>LIGHTCOND</th>\n",
       "      <th>INCDTTM</th>\n",
       "    </tr>\n",
       "  </thead>\n",
       "  <tbody>\n",
       "    <tr>\n",
       "      <th>0</th>\n",
       "      <td>2013</td>\n",
       "      <td>2</td>\n",
       "      <td>-122.323148</td>\n",
       "      <td>47.703140</td>\n",
       "      <td>2</td>\n",
       "      <td>Angles</td>\n",
       "      <td>Overcast</td>\n",
       "      <td>Wet</td>\n",
       "      <td>Daylight</td>\n",
       "      <td>2013-03-27 14:54:00</td>\n",
       "    </tr>\n",
       "    <tr>\n",
       "      <th>1</th>\n",
       "      <td>2006</td>\n",
       "      <td>1</td>\n",
       "      <td>-122.347294</td>\n",
       "      <td>47.647172</td>\n",
       "      <td>2</td>\n",
       "      <td>Sideswipe</td>\n",
       "      <td>Raining</td>\n",
       "      <td>Wet</td>\n",
       "      <td>Dark - Street Lights On</td>\n",
       "      <td>2006-12-20 18:55:00</td>\n",
       "    </tr>\n",
       "    <tr>\n",
       "      <th>2</th>\n",
       "      <td>2004</td>\n",
       "      <td>1</td>\n",
       "      <td>-122.334540</td>\n",
       "      <td>47.607871</td>\n",
       "      <td>3</td>\n",
       "      <td>Parked Car</td>\n",
       "      <td>Overcast</td>\n",
       "      <td>Dry</td>\n",
       "      <td>Daylight</td>\n",
       "      <td>2004-11-18 10:20:00</td>\n",
       "    </tr>\n",
       "    <tr>\n",
       "      <th>3</th>\n",
       "      <td>2013</td>\n",
       "      <td>1</td>\n",
       "      <td>-122.334803</td>\n",
       "      <td>47.604803</td>\n",
       "      <td>3</td>\n",
       "      <td>Other</td>\n",
       "      <td>Clear</td>\n",
       "      <td>Dry</td>\n",
       "      <td>Daylight</td>\n",
       "      <td>2013-03-29 09:26:00</td>\n",
       "    </tr>\n",
       "    <tr>\n",
       "      <th>4</th>\n",
       "      <td>2004</td>\n",
       "      <td>2</td>\n",
       "      <td>-122.306426</td>\n",
       "      <td>47.545739</td>\n",
       "      <td>2</td>\n",
       "      <td>Angles</td>\n",
       "      <td>Raining</td>\n",
       "      <td>Wet</td>\n",
       "      <td>Daylight</td>\n",
       "      <td>2004-01-28 08:04:00</td>\n",
       "    </tr>\n",
       "  </tbody>\n",
       "</table>\n",
       "</div>"
      ],
      "text/plain": [
       "   Year  SEVERITYCODE           X          Y  VEHCOUNT COLLISIONTYPE  \\\n",
       "0  2013             2 -122.323148  47.703140         2        Angles   \n",
       "1  2006             1 -122.347294  47.647172         2     Sideswipe   \n",
       "2  2004             1 -122.334540  47.607871         3    Parked Car   \n",
       "3  2013             1 -122.334803  47.604803         3         Other   \n",
       "4  2004             2 -122.306426  47.545739         2        Angles   \n",
       "\n",
       "    WEATHER ROADCOND                LIGHTCOND             INCDTTM  \n",
       "0  Overcast      Wet                 Daylight 2013-03-27 14:54:00  \n",
       "1   Raining      Wet  Dark - Street Lights On 2006-12-20 18:55:00  \n",
       "2  Overcast      Dry                 Daylight 2004-11-18 10:20:00  \n",
       "3     Clear      Dry                 Daylight 2013-03-29 09:26:00  \n",
       "4   Raining      Wet                 Daylight 2004-01-28 08:04:00  "
      ]
     },
     "execution_count": 47,
     "metadata": {},
     "output_type": "execute_result"
    }
   ],
   "source": [
    "print(feature_df.shape)\n",
    "feature_df.head()"
   ]
  },
  {
   "cell_type": "code",
   "execution_count": 48,
   "metadata": {},
   "outputs": [
    {
     "name": "stderr",
     "output_type": "stream",
     "text": [
      "C:\\Users\\kpurs\\anaconda3\\lib\\site-packages\\pandas\\core\\frame.py:3990: SettingWithCopyWarning: \n",
      "A value is trying to be set on a copy of a slice from a DataFrame\n",
      "\n",
      "See the caveats in the documentation: https://pandas.pydata.org/pandas-docs/stable/user_guide/indexing.html#returning-a-view-versus-a-copy\n",
      "  return super().drop(\n"
     ]
    },
    {
     "data": {
      "text/html": [
       "<div>\n",
       "<style scoped>\n",
       "    .dataframe tbody tr th:only-of-type {\n",
       "        vertical-align: middle;\n",
       "    }\n",
       "\n",
       "    .dataframe tbody tr th {\n",
       "        vertical-align: top;\n",
       "    }\n",
       "\n",
       "    .dataframe thead th {\n",
       "        text-align: right;\n",
       "    }\n",
       "</style>\n",
       "<table border=\"1\" class=\"dataframe\">\n",
       "  <thead>\n",
       "    <tr style=\"text-align: right;\">\n",
       "      <th></th>\n",
       "      <th>Hour</th>\n",
       "      <th>Year</th>\n",
       "    </tr>\n",
       "  </thead>\n",
       "  <tbody>\n",
       "    <tr>\n",
       "      <th>0</th>\n",
       "      <td>14</td>\n",
       "      <td>2013</td>\n",
       "    </tr>\n",
       "    <tr>\n",
       "      <th>1</th>\n",
       "      <td>18</td>\n",
       "      <td>2006</td>\n",
       "    </tr>\n",
       "    <tr>\n",
       "      <th>2</th>\n",
       "      <td>10</td>\n",
       "      <td>2004</td>\n",
       "    </tr>\n",
       "    <tr>\n",
       "      <th>3</th>\n",
       "      <td>9</td>\n",
       "      <td>2013</td>\n",
       "    </tr>\n",
       "    <tr>\n",
       "      <th>4</th>\n",
       "      <td>8</td>\n",
       "      <td>2004</td>\n",
       "    </tr>\n",
       "  </tbody>\n",
       "</table>\n",
       "</div>"
      ],
      "text/plain": [
       "   Hour  Year\n",
       "0    14  2013\n",
       "1    18  2006\n",
       "2    10  2004\n",
       "3     9  2013\n",
       "4     8  2004"
      ]
     },
     "execution_count": 48,
     "metadata": {},
     "output_type": "execute_result"
    }
   ],
   "source": [
    "yr_hr_df = feature_df[['INCDTTM']]\n",
    "yr_hr_df.insert(0, 'Year', yr_hr_df['INCDTTM'].dt.year)\n",
    "yr_hr_df.insert(0, 'Hour', yr_hr_df['INCDTTM'].dt.hour)\n",
    "yr_hr_df.drop(['INCDTTM'],axis=1,inplace=True)\n",
    "yr_hr_df.head()"
   ]
  },
  {
   "cell_type": "code",
   "execution_count": 49,
   "metadata": {},
   "outputs": [
    {
     "name": "stdout",
     "output_type": "stream",
     "text": [
      "(183950, 2)\n"
     ]
    },
    {
     "name": "stderr",
     "output_type": "stream",
     "text": [
      "<ipython-input-49-e2092ee9877d>:1: SettingWithCopyWarning: \n",
      "A value is trying to be set on a copy of a slice from a DataFrame\n",
      "\n",
      "See the caveats in the documentation: https://pandas.pydata.org/pandas-docs/stable/user_guide/indexing.html#returning-a-view-versus-a-copy\n",
      "  yr_hr_df.sort_values(by=['Hour','Year'], ascending=True, inplace=True)\n"
     ]
    },
    {
     "data": {
      "text/html": [
       "<div>\n",
       "<style scoped>\n",
       "    .dataframe tbody tr th:only-of-type {\n",
       "        vertical-align: middle;\n",
       "    }\n",
       "\n",
       "    .dataframe tbody tr th {\n",
       "        vertical-align: top;\n",
       "    }\n",
       "\n",
       "    .dataframe thead th {\n",
       "        text-align: right;\n",
       "    }\n",
       "</style>\n",
       "<table border=\"1\" class=\"dataframe\">\n",
       "  <thead>\n",
       "    <tr style=\"text-align: right;\">\n",
       "      <th></th>\n",
       "      <th>Year</th>\n",
       "      <th>Hour</th>\n",
       "      <th>Count</th>\n",
       "    </tr>\n",
       "  </thead>\n",
       "  <tbody>\n",
       "    <tr>\n",
       "      <th>0</th>\n",
       "      <td>2004</td>\n",
       "      <td>0</td>\n",
       "      <td>3753</td>\n",
       "    </tr>\n",
       "    <tr>\n",
       "      <th>1</th>\n",
       "      <td>2004</td>\n",
       "      <td>1</td>\n",
       "      <td>182</td>\n",
       "    </tr>\n",
       "    <tr>\n",
       "      <th>2</th>\n",
       "      <td>2004</td>\n",
       "      <td>2</td>\n",
       "      <td>220</td>\n",
       "    </tr>\n",
       "    <tr>\n",
       "      <th>3</th>\n",
       "      <td>2004</td>\n",
       "      <td>3</td>\n",
       "      <td>94</td>\n",
       "    </tr>\n",
       "    <tr>\n",
       "      <th>4</th>\n",
       "      <td>2004</td>\n",
       "      <td>4</td>\n",
       "      <td>83</td>\n",
       "    </tr>\n",
       "  </tbody>\n",
       "</table>\n",
       "</div>"
      ],
      "text/plain": [
       "   Year  Hour  Count\n",
       "0  2004     0   3753\n",
       "1  2004     1    182\n",
       "2  2004     2    220\n",
       "3  2004     3     94\n",
       "4  2004     4     83"
      ]
     },
     "execution_count": 49,
     "metadata": {},
     "output_type": "execute_result"
    }
   ],
   "source": [
    "yr_hr_df.sort_values(by=['Hour','Year'], ascending=True, inplace=True)\n",
    "\n",
    "plot_df = yr_hr_df.groupby(['Year','Hour']).size().reset_index(name='Count')\n",
    "\n",
    "print(yr_hr_df.shape)\n",
    "plot_df.head()"
   ]
  },
  {
   "cell_type": "code",
   "execution_count": 50,
   "metadata": {},
   "outputs": [
    {
     "data": {
      "text/plain": [
       "Year     int64\n",
       "Hour     int64\n",
       "Count    int64\n",
       "dtype: object"
      ]
     },
     "execution_count": 50,
     "metadata": {},
     "output_type": "execute_result"
    }
   ],
   "source": [
    "plot_df.dtypes"
   ]
  },
  {
   "cell_type": "code",
   "execution_count": 51,
   "metadata": {},
   "outputs": [
    {
     "data": {
      "image/png": "[encoded data removed]",
      "text/plain": [
       "<Figure size 1008x576 with 1 Axes>"
      ]
     },
     "metadata": {},
     "output_type": "display_data"
    }
   ],
   "source": [
    "plot_df['2004'] = np.where(plot_df['Year']==2004,plot_df['Count'], 0)\n",
    "plot_df['2005'] = np.where(plot_df['Year']==2005,plot_df['Count'], 0)\n",
    "plot_df['2006'] = np.where(plot_df['Year']==2006,plot_df['Count'], 0)\n",
    "plot_df['2007'] = np.where(plot_df['Year']==2007,plot_df['Count'], 0)\n",
    "plot_df['2008'] = np.where(plot_df['Year']==2008,plot_df['Count'], 0)\n",
    "plot_df['2009'] = np.where(plot_df['Year']==2009,plot_df['Count'], 0)\n",
    "plot_df['2010'] = np.where(plot_df['Year']==2010,plot_df['Count'], 0)\n",
    "plot_df['2011'] = np.where(plot_df['Year']==2011,plot_df['Count'], 0)\n",
    "plot_df['2012'] = np.where(plot_df['Year']==2012,plot_df['Count'], 0)\n",
    "plot_df['2013'] = np.where(plot_df['Year']==2013,plot_df['Count'], 0)\n",
    "plot_df['2014'] = np.where(plot_df['Year']==2014,plot_df['Count'], 0)\n",
    "plot_df['2015'] = np.where(plot_df['Year']==2015,plot_df['Count'], 0)\n",
    "plot_df['2016'] = np.where(plot_df['Year']==2016,plot_df['Count'], 0)\n",
    "plot_df['2017'] = np.where(plot_df['Year']==2017,plot_df['Count'], 0)\n",
    "plot_df['2018'] = np.where(plot_df['Year']==2018,plot_df['Count'], 0)\n",
    "plot_df['2019'] = np.where(plot_df['Year']==2019,plot_df['Count'], 0)\n",
    "plot_df['2020'] = np.where(plot_df['Year']==2020,plot_df['Count'], 0)\n",
    "\n",
    "#drop unwanted columns\n",
    "plot_df.drop(['Year','Count'],axis=1,inplace=True)\n",
    "\n",
    "#MERGE rows so that there is one per year\n",
    "line_hr_df = plot_df.groupby(['Hour']).sum()[['2004','2005','2006','2007','2008','2009','2010','2011','2012','2013','2014','2015','2016','2017','2018','2019','2020']]\n",
    "\n",
    "#PLOT WEATHER\n",
    "line_hr_df.index = line_hr_df.index.map(int)\n",
    "line_hr_df.plot(kind='line', figsize=(14, 8))\n",
    "plt.title('Daily Accident Trend by Hour')\n",
    "plt.ylabel('Number of Accidents')\n",
    "plt.xlabel('Hour of Day')\n",
    "plt.show()"
   ]
  },
  {
   "cell_type": "code",
   "execution_count": null,
   "metadata": {},
   "outputs": [],
   "source": []
  }
 ],
 "metadata": {
  "kernelspec": {
   "display_name": "Python 3",
   "language": "python",
   "name": "python3"
  },
  "language_info": {
   "codemirror_mode": {
    "name": "ipython",
    "version": 3
   },
   "file_extension": ".py",
   "mimetype": "text/x-python",
   "name": "python",
   "nbconvert_exporter": "python",
   "pygments_lexer": "ipython3",
   "version": "3.8.3"
  }
 },
 "nbformat": 4,
 "nbformat_minor": 4
}
